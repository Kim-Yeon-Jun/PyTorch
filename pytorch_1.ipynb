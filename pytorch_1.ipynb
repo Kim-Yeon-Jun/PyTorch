{
  "nbformat": 4,
  "nbformat_minor": 0,
  "metadata": {
    "colab": {
      "provenance": [],
      "authorship_tag": "ABX9TyP9SzGkKIs3s4FEt0B6FIxs",
      "include_colab_link": true
    },
    "kernelspec": {
      "name": "python3",
      "display_name": "Python 3"
    },
    "language_info": {
      "name": "python"
    }
  },
  "cells": [
    {
      "cell_type": "markdown",
      "metadata": {
        "id": "view-in-github",
        "colab_type": "text"
      },
      "source": [
        "<a href=\"https://colab.research.google.com/github/Kim-Yeon-Jun/PyTorch/blob/main/pytorch.ipynb\" target=\"_parent\"><img src=\"https://colab.research.google.com/assets/colab-badge.svg\" alt=\"Open In Colab\"/></a>"
      ]
    },
    {
      "cell_type": "code",
      "execution_count": 6,
      "metadata": {
        "id": "uK5NiA1TrjP5"
      },
      "outputs": [],
      "source": [
        "from sklearn.feature_extraction.text import CountVectorizer\n",
        "import seaborn as sns"
      ]
    },
    {
      "cell_type": "code",
      "source": [
        "corpus = ['Time flies like an arrow','Fruit flies like a banana']\n",
        "one_hot_vectorizer = CountVectorizer(binary=True)\n",
        "one_hot = one_hot_vectorizer.fit_transform(corpus).toarray()\n",
        "vocab = one_hot_vectorizer.get_feature_names_out()\n",
        "sns.heatmap(one_hot, annot=True, cbar=False, xticklabels=vocab, yticklabels=['Sentences1, Sentences2'])"
      ],
      "metadata": {
        "colab": {
          "base_uri": "https://localhost:8080/",
          "height": 448
        },
        "id": "hyr0MBKqswuW",
        "outputId": "ff06af94-6d3e-48a1-e5ae-250d9ecf8b7c"
      },
      "execution_count": 8,
      "outputs": [
        {
          "output_type": "execute_result",
          "data": {
            "text/plain": [
              "<Axes: >"
            ]
          },
          "metadata": {},
          "execution_count": 8
        },
        {
          "output_type": "display_data",
          "data": {
            "text/plain": [
              "<Figure size 640x480 with 1 Axes>"
            ],
            "image/png": "[encoded data removed]"
          },
          "metadata": {}
        }
      ]
    },
    {
      "cell_type": "code",
      "source": [
        "from sklearn.feature_extraction.text import TfidfVectorizer\n",
        "import seaborn as sns"
      ],
      "metadata": {
        "id": "rwEGy2EQtSv4"
      },
      "execution_count": 9,
      "outputs": []
    },
    {
      "cell_type": "code",
      "source": [
        "tfidf_vectorizer = TfidfVectorizer()\n",
        "tfidf = tfidf_vectorizer.fit_transform(corpus).toarray()\n",
        "sns.heatmap(tfidf, annot=True, cbar = False, xticklabels=vocab, yticklabels = ['Sentences1', 'Sentences2'])"
      ],
      "metadata": {
        "colab": {
          "base_uri": "https://localhost:8080/",
          "height": 448
        },
        "id": "R6mGXAKJxkQa",
        "outputId": "be1b1e30-2bf8-409d-ad00-0411ab1c1a6d"
      },
      "execution_count": 10,
      "outputs": [
        {
          "output_type": "execute_result",
          "data": {
            "text/plain": [
              "<Axes: >"
            ]
          },
          "metadata": {},
          "execution_count": 10
        },
        {
          "output_type": "display_data",
          "data": {
            "text/plain": [
              "<Figure size 640x480 with 1 Axes>"
            ],
            "image/png": "[encoded data removed]"
          },
          "metadata": {}
        }
      ]
    },
    {
      "cell_type": "code",
      "source": [
        "def describe(x):\n",
        "  print(\"타입: {}\".format(x.type()))\n",
        "  print(\"크기: {}\".format(x.shape))\n",
        "  print(\"값: \\n{}\".format(format(x)))"
      ],
      "metadata": {
        "id": "EUdhz6vPx5we"
      },
      "execution_count": 14,
      "outputs": []
    },
    {
      "cell_type": "code",
      "source": [
        "import torch\n",
        "#차원을 지정하여 텐서를 랜덤하게 초기화 (2, 3)은 텐서의 크기\n",
        "describe(torch.Tensor(2, 3))"
      ],
      "metadata": {
        "colab": {
          "base_uri": "https://localhost:8080/"
        },
        "id": "ksQkSLec_Okx",
        "outputId": "30fac38c-93c5-47df-830d-31f46dff96a0"
      },
      "execution_count": 15,
      "outputs": [
        {
          "output_type": "stream",
          "name": "stdout",
          "text": [
            "타입: torch.FloatTensor\n",
            "크기: torch.Size([2, 3])\n",
            "값: \n",
            "tensor([[2.1715e-18, 2.3081e-12, 1.8590e+34],\n",
            "        [7.7767e+31, 1.7181e+19, 1.8990e+28]])\n"
          ]
        }
      ]
    },
    {
      "cell_type": "code",
      "source": [
        "#특정 범위의 균등 분포에서 샘플링한 값으로 랜덤하게 초기화한 텐서 생성\n",
        "describe(torch.rand(2,3))\n",
        "#표준 정규 분포에서 텐서를 생성\n",
        "describe(torch.randn(2,3))"
      ],
      "metadata": {
        "colab": {
          "base_uri": "https://localhost:8080/"
        },
        "id": "6GvVksKG_jBx",
        "outputId": "ffe10064-c4e3-476b-b51e-7722ca506a73"
      },
      "execution_count": 16,
      "outputs": [
        {
          "output_type": "stream",
          "name": "stdout",
          "text": [
            "타입: torch.FloatTensor\n",
            "크기: torch.Size([2, 3])\n",
            "값: \n",
            "tensor([[0.7610, 0.8002, 0.8445],\n",
            "        [0.4684, 0.3544, 0.4043]])\n",
            "타입: torch.FloatTensor\n",
            "크기: torch.Size([2, 3])\n",
            "값: \n",
            "tensor([[-0.1317, -1.9154, -1.3547],\n",
            "        [ 0.9986,  1.7481, -0.7462]])\n"
          ]
        }
      ]
    },
    {
      "cell_type": "code",
      "source": [
        "#동일한 스칼라 값으로 채운 텐서 생성 // fil_() 메서드\n",
        "describe(torch.zeros(2,3)) # (2,3)텐서의 모든 값을 0으로 초기화\n",
        "x = torch.ones(2,3) #텐서의 모든 값을 1로 초기화\n",
        "describe(x)\n",
        "x.fill_(5) # 텐서의 모든 값을 지정된 값 = 5 로 초기화\n",
        "describe(x)\n",
        "#새로운 객체를 만들지 않고 현재값을 변경하는 과정임"
      ],
      "metadata": {
        "colab": {
          "base_uri": "https://localhost:8080/"
        },
        "id": "vlit0zuMAFx5",
        "outputId": "922152f1-adc8-4c49-9288-42630adccb63"
      },
      "execution_count": 18,
      "outputs": [
        {
          "output_type": "stream",
          "name": "stdout",
          "text": [
            "타입: torch.FloatTensor\n",
            "크기: torch.Size([2, 3])\n",
            "값: \n",
            "tensor([[0., 0., 0.],\n",
            "        [0., 0., 0.]])\n",
            "타입: torch.FloatTensor\n",
            "크기: torch.Size([2, 3])\n",
            "값: \n",
            "tensor([[1., 1., 1.],\n",
            "        [1., 1., 1.]])\n",
            "타입: torch.FloatTensor\n",
            "크기: torch.Size([2, 3])\n",
            "값: \n",
            "tensor([[5., 5., 5.],\n",
            "        [5., 5., 5.]])\n"
          ]
        }
      ]
    },
    {
      "cell_type": "code",
      "source": [
        "#파이썬 리스트를 이용한 텐서 생성\n",
        "x = torch.Tensor([[1,2,3],[4,5,6]])\n",
        "describe(x)"
      ],
      "metadata": {
        "colab": {
          "base_uri": "https://localhost:8080/"
        },
        "id": "1E-vZAWzAcvq",
        "outputId": "a504bbec-cb53-4ccf-a1a3-2237168190f6"
      },
      "execution_count": 19,
      "outputs": [
        {
          "output_type": "stream",
          "name": "stdout",
          "text": [
            "타입: torch.FloatTensor\n",
            "크기: torch.Size([2, 3])\n",
            "값: \n",
            "tensor([[1., 2., 3.],\n",
            "        [4., 5., 6.]])\n"
          ]
        }
      ]
    },
    {
      "cell_type": "code",
      "source": [
        "#파이썬 넘파이 <=> 텐서\n",
        "#넘파이 배열을 사용 -> 텐서 타입 : FloatTensor가 아니라 DoubleTensor가 됨. ::랜덤한 넘파이의 배열의 기본 데이터 타입이 float64이기 때문\n",
        "import numpy as np\n",
        "npy = np.random.rand(2,3)\n",
        "describe(torch.from_numpy(npy))\n",
        "#넘파이 배열과 파이토치 텐서 사이를 변환하는 기능은 넘파이 포맷의 수치 데이터를 사용하는 레거시(legacy) 라이브러리를 사용할 때 중요함."
      ],
      "metadata": {
        "colab": {
          "base_uri": "https://localhost:8080/"
        },
        "id": "bE8K0DAmAdGX",
        "outputId": "d70ccaa0-74c5-43ef-e8e5-c51771cac1c5"
      },
      "execution_count": 20,
      "outputs": [
        {
          "output_type": "stream",
          "name": "stdout",
          "text": [
            "타입: torch.DoubleTensor\n",
            "크기: torch.Size([2, 3])\n",
            "값: \n",
            "tensor([[0.3119, 0.3960, 0.2204],\n",
            "        [0.7526, 0.0071, 0.3932]], dtype=torch.float64)\n"
          ]
        }
      ]
    },
    {
      "cell_type": "code",
      "source": [
        "#텐서 타입과 크기\n",
        "#기본 텐서 타입 : torch.FloatTensor  나중에 타입 캐스팅으로 float, long, double로 변경 가능\n",
        "#초기화 할 때 타입을 지정하는 방식은 2가지.\n",
        "#(1) FloatTensor와 LongTensor 같은 특정 텐서 타입의 생성자를 직접 호출\n",
        "#(2)torch.tensor() 메서드와 dtype 매개변수를 사용하는 방법\n",
        "#텐서 객체의 shape 속성과 size() 메서드를 사용해 텐서의 차원을 확인할 수 있음.\n",
        "#파이토치 코드 디버깅시에 꼭 텐서의 크기를 확인할 것!\n",
        "x = torch.FloatTensor([[1,2,3],[4,5,6]])\n",
        "describe(x)"
      ],
      "metadata": {
        "colab": {
          "base_uri": "https://localhost:8080/"
        },
        "id": "Z5BxXjivAdJj",
        "outputId": "2e82b30a-3b29-474f-d105-21ac675c8c2c"
      },
      "execution_count": 21,
      "outputs": [
        {
          "output_type": "stream",
          "name": "stdout",
          "text": [
            "타입: torch.FloatTensor\n",
            "크기: torch.Size([2, 3])\n",
            "값: \n",
            "tensor([[1., 2., 3.],\n",
            "        [4., 5., 6.]])\n"
          ]
        }
      ]
    },
    {
      "cell_type": "code",
      "source": [
        "x = x.long()\n",
        "describe(x)"
      ],
      "metadata": {
        "colab": {
          "base_uri": "https://localhost:8080/"
        },
        "id": "3MXXuedqAdMV",
        "outputId": "138c11c2-3ec8-4bac-9fd8-8247dc36b94f"
      },
      "execution_count": 22,
      "outputs": [
        {
          "output_type": "stream",
          "name": "stdout",
          "text": [
            "타입: torch.LongTensor\n",
            "크기: torch.Size([2, 3])\n",
            "값: \n",
            "tensor([[1, 2, 3],\n",
            "        [4, 5, 6]])\n"
          ]
        }
      ]
    },
    {
      "cell_type": "code",
      "source": [
        "x = torch.tensor([[1,2,3],[4,5,6]], dtype=torch.int64)\n",
        "describe(x)"
      ],
      "metadata": {
        "colab": {
          "base_uri": "https://localhost:8080/"
        },
        "id": "yhQQPiuUAdPC",
        "outputId": "45694b35-8220-41cb-8853-c92f12bd8180"
      },
      "execution_count": 24,
      "outputs": [
        {
          "output_type": "stream",
          "name": "stdout",
          "text": [
            "타입: torch.LongTensor\n",
            "크기: torch.Size([2, 3])\n",
            "값: \n",
            "tensor([[1, 2, 3],\n",
            "        [4, 5, 6]])\n"
          ]
        }
      ]
    },
    {
      "cell_type": "code",
      "source": [
        "x = x.float()\n",
        "describe(x)"
      ],
      "metadata": {
        "colab": {
          "base_uri": "https://localhost:8080/"
        },
        "id": "6NzIA5G0AdRk",
        "outputId": "9a285b19-b46a-43a1-c0aa-9bc566959550"
      },
      "execution_count": 25,
      "outputs": [
        {
          "output_type": "stream",
          "name": "stdout",
          "text": [
            "타입: torch.FloatTensor\n",
            "크기: torch.Size([2, 3])\n",
            "값: \n",
            "tensor([[1., 2., 3.],\n",
            "        [4., 5., 6.]])\n"
          ]
        }
      ]
    },
    {
      "cell_type": "code",
      "source": [
        "#텐서 연산  .add()\n",
        "\n",
        "x = torch.randn(2,3)\n",
        "describe(x)"
      ],
      "metadata": {
        "colab": {
          "base_uri": "https://localhost:8080/"
        },
        "id": "oIkfuLYYAdUy",
        "outputId": "163c29e5-bdc9-4626-f6ae-8c736068d083"
      },
      "execution_count": 26,
      "outputs": [
        {
          "output_type": "stream",
          "name": "stdout",
          "text": [
            "타입: torch.FloatTensor\n",
            "크기: torch.Size([2, 3])\n",
            "값: \n",
            "tensor([[ 2.0503, -2.3173, -0.1365],\n",
            "        [-1.7890, -0.9993,  0.7436]])\n"
          ]
        }
      ]
    },
    {
      "cell_type": "code",
      "source": [
        "describe(torch.add(x,x))"
      ],
      "metadata": {
        "colab": {
          "base_uri": "https://localhost:8080/"
        },
        "id": "8np37qL1AdXd",
        "outputId": "5369b649-458b-432b-cd29-81e3f2326983"
      },
      "execution_count": 27,
      "outputs": [
        {
          "output_type": "stream",
          "name": "stdout",
          "text": [
            "타입: torch.FloatTensor\n",
            "크기: torch.Size([2, 3])\n",
            "값: \n",
            "tensor([[ 4.1006, -4.6346, -0.2731],\n",
            "        [-3.5780, -1.9986,  1.4872]])\n"
          ]
        }
      ]
    },
    {
      "cell_type": "code",
      "source": [
        "describe(x+x)"
      ],
      "metadata": {
        "colab": {
          "base_uri": "https://localhost:8080/"
        },
        "id": "wwYJdyO0AdaJ",
        "outputId": "e4948791-ea13-4893-f45e-48cb259dd10a"
      },
      "execution_count": 28,
      "outputs": [
        {
          "output_type": "stream",
          "name": "stdout",
          "text": [
            "타입: torch.FloatTensor\n",
            "크기: torch.Size([2, 3])\n",
            "값: \n",
            "tensor([[ 4.1006, -4.6346, -0.2731],\n",
            "        [-3.5780, -1.9986,  1.4872]])\n"
          ]
        }
      ]
    },
    {
      "cell_type": "code",
      "source": [
        "#특정 차원에 적용할 수 있는 연산.\n",
        "x = torch.arange(6)\n",
        "describe(x)"
      ],
      "metadata": {
        "colab": {
          "base_uri": "https://localhost:8080/"
        },
        "id": "KvuH2s0mAddH",
        "outputId": "a536e315-ec88-4242-a88c-bff4b58b6483"
      },
      "execution_count": 29,
      "outputs": [
        {
          "output_type": "stream",
          "name": "stdout",
          "text": [
            "타입: torch.LongTensor\n",
            "크기: torch.Size([6])\n",
            "값: \n",
            "tensor([0, 1, 2, 3, 4, 5])\n"
          ]
        }
      ]
    },
    {
      "cell_type": "code",
      "source": [
        "x = x.view(2,3)\n",
        "describe(x)"
      ],
      "metadata": {
        "colab": {
          "base_uri": "https://localhost:8080/"
        },
        "id": "7Pap5LpjAdq7",
        "outputId": "753bff08-dd6a-48da-f3a8-677ad739e5eb"
      },
      "execution_count": 30,
      "outputs": [
        {
          "output_type": "stream",
          "name": "stdout",
          "text": [
            "타입: torch.LongTensor\n",
            "크기: torch.Size([2, 3])\n",
            "값: \n",
            "tensor([[0, 1, 2],\n",
            "        [3, 4, 5]])\n"
          ]
        }
      ]
    },
    {
      "cell_type": "code",
      "source": [
        "describe(torch.sum(x, dim=0)) #같은 열의 값 연산 //dim(차원)"
      ],
      "metadata": {
        "colab": {
          "base_uri": "https://localhost:8080/"
        },
        "id": "QwH83QukAduc",
        "outputId": "fe3d225f-32a9-4d09-980c-51422c84b450"
      },
      "execution_count": 31,
      "outputs": [
        {
          "output_type": "stream",
          "name": "stdout",
          "text": [
            "타입: torch.LongTensor\n",
            "크기: torch.Size([3])\n",
            "값: \n",
            "tensor([3, 5, 7])\n"
          ]
        }
      ]
    },
    {
      "cell_type": "code",
      "source": [
        "describe(torch.sum(x, dim=1)) #같은 행의 값 연산"
      ],
      "metadata": {
        "colab": {
          "base_uri": "https://localhost:8080/"
        },
        "id": "vrzwF0vCAdyZ",
        "outputId": "b3372dbd-57c6-44b9-80c6-feb4213bcb13"
      },
      "execution_count": 33,
      "outputs": [
        {
          "output_type": "stream",
          "name": "stdout",
          "text": [
            "타입: torch.LongTensor\n",
            "크기: torch.Size([2])\n",
            "값: \n",
            "tensor([ 3, 12])\n"
          ]
        }
      ]
    },
    {
      "cell_type": "code",
      "source": [
        "describe(torch.transpose(x, 0, 1)) #transpose(전치) : 텐서의 차원을 변경해주는 함수 (x, dim0, dim1) // transpose(x, 0, 1) 인 경우에는 행과 열이 서로 바뀜"
      ],
      "metadata": {
        "colab": {
          "base_uri": "https://localhost:8080/"
        },
        "id": "H5h8g4eyAd2N",
        "outputId": "d8288d41-94b3-4b51-862e-40c28e5b0390"
      },
      "execution_count": 34,
      "outputs": [
        {
          "output_type": "stream",
          "name": "stdout",
          "text": [
            "타입: torch.LongTensor\n",
            "크기: torch.Size([3, 2])\n",
            "값: \n",
            "tensor([[0, 3],\n",
            "        [1, 4],\n",
            "        [2, 5]])\n"
          ]
        }
      ]
    },
    {
      "cell_type": "code",
      "source": [
        "#인덱싱, 슬라이싱, 연결\n",
        "x = torch.arange(6).view(2,3)\n",
        "describe(x)"
      ],
      "metadata": {
        "colab": {
          "base_uri": "https://localhost:8080/"
        },
        "id": "D9D1my5sAd4-",
        "outputId": "eb316367-22c9-466b-bdc2-68b55058353c"
      },
      "execution_count": 35,
      "outputs": [
        {
          "output_type": "stream",
          "name": "stdout",
          "text": [
            "타입: torch.LongTensor\n",
            "크기: torch.Size([2, 3])\n",
            "값: \n",
            "tensor([[0, 1, 2],\n",
            "        [3, 4, 5]])\n"
          ]
        }
      ]
    },
    {
      "cell_type": "code",
      "source": [
        "describe(x[:1,:2]) # [:n ] 인덱싱은 0 ~ n-1 까지의 범위를 나타냄"
      ],
      "metadata": {
        "colab": {
          "base_uri": "https://localhost:8080/"
        },
        "id": "L_lS1RC2E0t2",
        "outputId": "21b8b912-fa1c-4a8e-a0a7-8f4ba5d648f5"
      },
      "execution_count": 36,
      "outputs": [
        {
          "output_type": "stream",
          "name": "stdout",
          "text": [
            "타입: torch.LongTensor\n",
            "크기: torch.Size([1, 2])\n",
            "값: \n",
            "tensor([[0, 1]])\n"
          ]
        }
      ]
    },
    {
      "cell_type": "code",
      "source": [
        "describe(x[0,1])"
      ],
      "metadata": {
        "colab": {
          "base_uri": "https://localhost:8080/"
        },
        "id": "A5ekmHlrE0sK",
        "outputId": "14a40432-9b6b-4ad5-d116-995b7dca0961"
      },
      "execution_count": 37,
      "outputs": [
        {
          "output_type": "stream",
          "name": "stdout",
          "text": [
            "타입: torch.LongTensor\n",
            "크기: torch.Size([])\n",
            "값: \n",
            "1\n"
          ]
        }
      ]
    },
    {
      "cell_type": "code",
      "source": [
        "#복잡한 인덱싱, 연속적이지 않은 텐서 인덱스 참조\n",
        "indices = torch.LongTensor([0,2])\n",
        "describe(torch.index_select(x, dim = 1, index = indices)) # 1열에 해당하는 값 제외하고 인덱스 참조"
      ],
      "metadata": {
        "colab": {
          "base_uri": "https://localhost:8080/"
        },
        "id": "jKDfCz1eE0qJ",
        "outputId": "0eccfa9e-cd2a-4b2e-aba8-591f95df55b2"
      },
      "execution_count": 38,
      "outputs": [
        {
          "output_type": "stream",
          "name": "stdout",
          "text": [
            "타입: torch.LongTensor\n",
            "크기: torch.Size([2, 2])\n",
            "값: \n",
            "tensor([[0, 2],\n",
            "        [3, 5]])\n"
          ]
        }
      ]
    },
    {
      "cell_type": "code",
      "source": [
        "indices = torch.LongTensor([0,0])\n",
        "describe(torch.index_select(x, dim = 0, index = indices))"
      ],
      "metadata": {
        "colab": {
          "base_uri": "https://localhost:8080/"
        },
        "id": "qsdyoUfjE0oO",
        "outputId": "39e80a1b-7c0e-4cee-edc8-b840748c4d95"
      },
      "execution_count": 39,
      "outputs": [
        {
          "output_type": "stream",
          "name": "stdout",
          "text": [
            "타입: torch.LongTensor\n",
            "크기: torch.Size([2, 3])\n",
            "값: \n",
            "tensor([[0, 1, 2],\n",
            "        [0, 1, 2]])\n"
          ]
        }
      ]
    },
    {
      "cell_type": "code",
      "source": [
        "row_indices = torch.arange(2).long()\n",
        "col_indices = torch.LongTensor([0,1])\n",
        "describe(x[row_indices, col_indices])"
      ],
      "metadata": {
        "colab": {
          "base_uri": "https://localhost:8080/"
        },
        "id": "9NbMk6_TE0mX",
        "outputId": "efc25f0a-ac26-42c1-e017-ec73ccea80e7"
      },
      "execution_count": 40,
      "outputs": [
        {
          "output_type": "stream",
          "name": "stdout",
          "text": [
            "타입: torch.LongTensor\n",
            "크기: torch.Size([2])\n",
            "값: \n",
            "tensor([0, 4])\n"
          ]
        }
      ]
    },
    {
      "cell_type": "code",
      "source": [
        "#텐서 연결\n",
        "x = torch.arange(6).view(2,3)\n",
        "describe(x)"
      ],
      "metadata": {
        "colab": {
          "base_uri": "https://localhost:8080/"
        },
        "id": "3Uvph033E0kZ",
        "outputId": "e0c502cf-a0f9-4b3c-a993-003345073b8e"
      },
      "execution_count": 42,
      "outputs": [
        {
          "output_type": "stream",
          "name": "stdout",
          "text": [
            "타입: torch.LongTensor\n",
            "크기: torch.Size([2, 3])\n",
            "값: \n",
            "tensor([[0, 1, 2],\n",
            "        [3, 4, 5]])\n"
          ]
        }
      ]
    },
    {
      "cell_type": "code",
      "source": [
        "describe(torch.cat([x,x], dim=0)) #torch.cat으로 텐서를 연결할 수 있음. dim = 0 , dim = 1 에 따라 기준 축이 다름"
      ],
      "metadata": {
        "colab": {
          "base_uri": "https://localhost:8080/"
        },
        "id": "9UJwAojmE0ia",
        "outputId": "6f67fbff-2a47-4c33-8201-c491eec1238c"
      },
      "execution_count": 43,
      "outputs": [
        {
          "output_type": "stream",
          "name": "stdout",
          "text": [
            "타입: torch.LongTensor\n",
            "크기: torch.Size([4, 3])\n",
            "값: \n",
            "tensor([[0, 1, 2],\n",
            "        [3, 4, 5],\n",
            "        [0, 1, 2],\n",
            "        [3, 4, 5]])\n"
          ]
        }
      ]
    },
    {
      "cell_type": "code",
      "source": [
        "describe(torch.cat([x,x], dim=1))"
      ],
      "metadata": {
        "colab": {
          "base_uri": "https://localhost:8080/"
        },
        "id": "ZCOV-iAEE0gO",
        "outputId": "8395cec6-331b-4bfa-8793-3ef6744199a7"
      },
      "execution_count": 44,
      "outputs": [
        {
          "output_type": "stream",
          "name": "stdout",
          "text": [
            "타입: torch.LongTensor\n",
            "크기: torch.Size([2, 6])\n",
            "값: \n",
            "tensor([[0, 1, 2, 0, 1, 2],\n",
            "        [3, 4, 5, 3, 4, 5]])\n"
          ]
        }
      ]
    },
    {
      "cell_type": "code",
      "source": [
        "describe(torch.stack([x,x])) #tensor.stack 함수로 새로운 차원을 추가하여 텐서를 생성함."
      ],
      "metadata": {
        "colab": {
          "base_uri": "https://localhost:8080/"
        },
        "id": "zUUMcrj9E0dk",
        "outputId": "7ed6bf40-e616-4981-861b-31e2097fe4ba"
      },
      "execution_count": 45,
      "outputs": [
        {
          "output_type": "stream",
          "name": "stdout",
          "text": [
            "타입: torch.LongTensor\n",
            "크기: torch.Size([2, 2, 3])\n",
            "값: \n",
            "tensor([[[0, 1, 2],\n",
            "         [3, 4, 5]],\n",
            "\n",
            "        [[0, 1, 2],\n",
            "         [3, 4, 5]]])\n"
          ]
        }
      ]
    },
    {
      "cell_type": "code",
      "source": [
        "#텐서에서의 선형대수 연산 : 행렬곱셈(mm),역행렬(inverse, pinverse),대각합(trace)\n",
        "x1 = torch.arange(6).view(2,3).float()\n",
        "describe(x1)"
      ],
      "metadata": {
        "colab": {
          "base_uri": "https://localhost:8080/"
        },
        "id": "sPE3fzbQE0bg",
        "outputId": "6edd1607-c10e-4963-fd32-2b878728405d"
      },
      "execution_count": 47,
      "outputs": [
        {
          "output_type": "stream",
          "name": "stdout",
          "text": [
            "타입: torch.FloatTensor\n",
            "크기: torch.Size([2, 3])\n",
            "값: \n",
            "tensor([[0., 1., 2.],\n",
            "        [3., 4., 5.]])\n"
          ]
        }
      ]
    },
    {
      "cell_type": "code",
      "source": [
        "x2 = torch.ones(3,2)\n",
        "x2[:,1] += 1\n",
        "describe(x2)"
      ],
      "metadata": {
        "colab": {
          "base_uri": "https://localhost:8080/"
        },
        "id": "4Dvp69kTE0Zq",
        "outputId": "2db11f39-57c1-45cd-a0a7-8781a52047fa"
      },
      "execution_count": 49,
      "outputs": [
        {
          "output_type": "stream",
          "name": "stdout",
          "text": [
            "타입: torch.FloatTensor\n",
            "크기: torch.Size([3, 2])\n",
            "값: \n",
            "tensor([[1., 2.],\n",
            "        [1., 2.],\n",
            "        [1., 2.]])\n"
          ]
        }
      ]
    },
    {
      "cell_type": "code",
      "source": [
        "describe(torch.mm(x1,x2))"
      ],
      "metadata": {
        "colab": {
          "base_uri": "https://localhost:8080/"
        },
        "id": "6fi26nNZE0XV",
        "outputId": "2adacc17-6dda-453a-aa36-aa2390426309"
      },
      "execution_count": 50,
      "outputs": [
        {
          "output_type": "stream",
          "name": "stdout",
          "text": [
            "타입: torch.FloatTensor\n",
            "크기: torch.Size([2, 2])\n",
            "값: \n",
            "tensor([[ 3.,  6.],\n",
            "        [12., 24.]])\n"
          ]
        }
      ]
    },
    {
      "cell_type": "code",
      "source": [
        "#계산 그래프 .. 그레이디언트 기반 학습에 필요한 손실 함수와 텐서의 그레이디언트를 기록하는 부가 연산을 활성화(requires_grad = True)\n",
        "x = torch.ones(2, 2, requires_grad=True)\n",
        "describe(x)\n",
        "print(x.grad is None)"
      ],
      "metadata": {
        "colab": {
          "base_uri": "https://localhost:8080/"
        },
        "id": "gBwb1DqjE0Te",
        "outputId": "5014efc1-518e-43cb-a22c-2a0b34573528"
      },
      "execution_count": 51,
      "outputs": [
        {
          "output_type": "stream",
          "name": "stdout",
          "text": [
            "타입: torch.FloatTensor\n",
            "크기: torch.Size([2, 2])\n",
            "값: \n",
            "tensor([[1., 1.],\n",
            "        [1., 1.]], requires_grad=True)\n",
            "True\n"
          ]
        }
      ]
    },
    {
      "cell_type": "code",
      "source": [
        "y = (x+2) * (x+5) + 3\n",
        "describe(y)\n",
        "print(x.grad is None)"
      ],
      "metadata": {
        "colab": {
          "base_uri": "https://localhost:8080/"
        },
        "id": "Jq7b9S-8E0RZ",
        "outputId": "d582b062-7bc2-4c63-c27c-3f04ac406320"
      },
      "execution_count": 52,
      "outputs": [
        {
          "output_type": "stream",
          "name": "stdout",
          "text": [
            "타입: torch.FloatTensor\n",
            "크기: torch.Size([2, 2])\n",
            "값: \n",
            "tensor([[21., 21.],\n",
            "        [21., 21.]], grad_fn=<AddBackward0>)\n",
            "True\n"
          ]
        }
      ]
    },
    {
      "cell_type": "code",
      "source": [
        "z = y.mean()\n",
        "describe(z)\n",
        "z.backward()\n",
        "print(x.grad is None)"
      ],
      "metadata": {
        "colab": {
          "base_uri": "https://localhost:8080/"
        },
        "id": "ct5BTtQVGV35",
        "outputId": "d969aae1-83dc-41f8-8cb2-8cd369e4c7dc"
      },
      "execution_count": 53,
      "outputs": [
        {
          "output_type": "stream",
          "name": "stdout",
          "text": [
            "타입: torch.FloatTensor\n",
            "크기: torch.Size([])\n",
            "값: \n",
            "21.0\n",
            "False\n"
          ]
        }
      ]
    },
    {
      "cell_type": "code",
      "source": [
        "#requires_grad = True\n",
        "# 파이토치가 정방향 계산의 값을 기록\n",
        "# 계산이 끝나면 스칼라값 하나를 사용해 역방향 계산을 수행\n",
        "# 역방향 계산은 손실 함수의 평가 결과로 얻은 텐서에서 backward() 메서드를 호출해 시작\n",
        "# 역방향 계산은 정방향 계산에 참여한 텐서 객체에 대한 그레이디언트 값을 계산\n",
        "# 그레이디언트 : 함수 입력에 대한 함수 출력의 기울기를 나타내는 값\n",
        "# .grad를 통해 계산 그래프에 있는 노드에 대한 그레이디언트를 참조할 수 있음. 이 속성값을 통해 옵티마이저는 파라미터값을 업데이트 함"
      ],
      "metadata": {
        "id": "j3R-vAiAGV1v"
      },
      "execution_count": null,
      "outputs": []
    },
    {
      "cell_type": "code",
      "source": [
        "#CUDA 텐서 (CPU 대신 GPU 사용하기)\n",
        "# torch.cuda.is_available() => GPU 사용가능한지 확인\n",
        "# torch.device() => 장치 이름을 가져옴\n",
        "# .to(device) => 향후 초기화되는 모든 텐서를 타깃 장치로 이동함.\n",
        "print(torch.cuda.is_available())"
      ],
      "metadata": {
        "colab": {
          "base_uri": "https://localhost:8080/"
        },
        "id": "3c0826Q6GVzl",
        "outputId": "6b0c80e9-05bd-47bd-8bb1-eae045a8d272"
      },
      "execution_count": 54,
      "outputs": [
        {
          "output_type": "stream",
          "name": "stdout",
          "text": [
            "False\n"
          ]
        }
      ]
    },
    {
      "cell_type": "code",
      "source": [],
      "metadata": {
        "id": "ZV8d2Vt_GVxn"
      },
      "execution_count": null,
      "outputs": []
    },
    {
      "cell_type": "code",
      "source": [],
      "metadata": {
        "id": "dLvwnMS1GVvh"
      },
      "execution_count": null,
      "outputs": []
    },
    {
      "cell_type": "code",
      "source": [],
      "metadata": {
        "id": "7mDiB7WgGVth"
      },
      "execution_count": null,
      "outputs": []
    },
    {
      "cell_type": "code",
      "source": [],
      "metadata": {
        "id": "vsmybYrdGVrT"
      },
      "execution_count": null,
      "outputs": []
    },
    {
      "cell_type": "code",
      "source": [],
      "metadata": {
        "id": "ruA3Up5XGVpL"
      },
      "execution_count": null,
      "outputs": []
    }
  ]
}

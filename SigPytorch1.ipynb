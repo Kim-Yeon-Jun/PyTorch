{
  "nbformat": 4,
  "nbformat_minor": 0,
  "metadata": {
    "colab": {
      "provenance": [],
      "gpuType": "T4",
      "authorship_tag": "ABX9TyNn1TxT9AvPByh6AozWjrRO",
      "include_colab_link": true
    },
    "kernelspec": {
      "name": "python3",
      "display_name": "Python 3"
    },
    "language_info": {
      "name": "python"
    },
    "accelerator": "GPU"
  },
  "cells": [
    {
      "cell_type": "markdown",
      "metadata": {
        "id": "view-in-github",
        "colab_type": "text"
      },
      "source": [
        "<a href=\"https://colab.research.google.com/github/Kim-Yeon-Jun/PyTorch/blob/main/SigPytorch1.ipynb\" target=\"_parent\"><img src=\"https://colab.research.google.com/assets/colab-badge.svg\" alt=\"Open In Colab\"/></a>"
      ]
    },
    {
      "cell_type": "code",
      "execution_count": null,
      "metadata": {
        "id": "8GWz6T8qImLD"
      },
      "outputs": [],
      "source": [
        "import torch"
      ]
    },
    {
      "cell_type": "code",
      "source": [
        "#텐서 연산시에 연산대상이 되는 텐서들은 같은 장치에 존재해야함\n",
        "data = [\n",
        "    [1,2],\n",
        "    [3,4]\n",
        "]\n",
        "\n",
        "x = torch.tensor(data)\n",
        "print(x.is_cuda)\n",
        "\n",
        "x = x.cuda() #GPU로 데이터 옮기기\n",
        "print(x.is_cuda)\n",
        "\n",
        "x = x.cpu() #CPU로 데이터 옮기기\n",
        "print(x.is_cuda)"
      ],
      "metadata": {
        "colab": {
          "base_uri": "https://localhost:8080/"
        },
        "id": "fOZCg8yhIt5G",
        "outputId": "e20b7dae-2118-4630-96f3-7865781c4340"
      },
      "execution_count": null,
      "outputs": [
        {
          "output_type": "stream",
          "name": "stdout",
          "text": [
            "False\n",
            "True\n",
            "False\n"
          ]
        }
      ]
    },
    {
      "cell_type": "code",
      "source": [
        "#행렬 곱 연산\n",
        "#GPU 장치의 텐서\n",
        "a = torch.tensor([\n",
        "    [1,1],\n",
        "    [2,2]\n",
        "]).cuda()\n",
        "\n",
        "b = torch.tensor([\n",
        "    [5,6],\n",
        "    [7,8]\n",
        "])\n",
        "\n",
        "#print(torch.matmul(a,b)) # 오류 발생\n",
        "print(torch.matmul(a.cpu(), b))"
      ],
      "metadata": {
        "colab": {
          "base_uri": "https://localhost:8080/"
        },
        "id": "A950UcZJJ9pp",
        "outputId": "442ca3fc-36b9-4464-9d16-21c1b155c8d2"
      },
      "execution_count": null,
      "outputs": [
        {
          "output_type": "stream",
          "name": "stdout",
          "text": [
            "tensor([[12, 14],\n",
            "        [24, 28]])\n"
          ]
        }
      ]
    },
    {
      "cell_type": "code",
      "source": [
        "tensor = torch.rand(3,4)\n",
        "\n",
        "print(tensor)\n",
        "print(f\"Shape: {tensor.shape}\")\n",
        "print(f\"Data Type: {tensor.dtype}\")\n",
        "print(f\"Device: {tensor.device}\")"
      ],
      "metadata": {
        "colab": {
          "base_uri": "https://localhost:8080/"
        },
        "id": "sIxzZF37JvBm",
        "outputId": "f2bf2ea8-632f-4713-d986-8db99ba680ff"
      },
      "execution_count": null,
      "outputs": [
        {
          "output_type": "stream",
          "name": "stdout",
          "text": [
            "tensor([[0.1903, 0.6321, 0.0946, 0.6040],\n",
            "        [0.4994, 0.9190, 0.9948, 0.1982],\n",
            "        [0.7053, 0.3414, 0.2541, 0.9723]])\n",
            "Shape: torch.Size([3, 4])\n",
            "Data Type: torch.float32\n",
            "Device: cpu\n"
          ]
        }
      ]
    },
    {
      "cell_type": "code",
      "source": [
        "#텐서 초기화\n",
        "data = [\n",
        "    [1,2],\n",
        "    [3,4]\n",
        "]\n",
        "x = torch.tensor(data)\n",
        "\n",
        "print(x)"
      ],
      "metadata": {
        "colab": {
          "base_uri": "https://localhost:8080/"
        },
        "id": "mrguHLVYLpRS",
        "outputId": "02dfee20-6dfb-4629-cca7-8097443b0922"
      },
      "execution_count": null,
      "outputs": [
        {
          "output_type": "stream",
          "name": "stdout",
          "text": [
            "tensor([[1, 2],\n",
            "        [3, 4]])\n"
          ]
        }
      ]
    },
    {
      "cell_type": "code",
      "source": [
        "#넘파이 배열에서 텐서 초기화\n",
        "a = torch.tensor([5])\n",
        "b = torch.tensor([7])\n",
        "\n",
        "c = (a+b).numpy()\n",
        "print(c)\n",
        "print(type(c))\n",
        "\n",
        "result = c * 10\n",
        "tensor = torch.from_numpy(result)\n",
        "print(tensor)\n",
        "print(type(tensor))"
      ],
      "metadata": {
        "colab": {
          "base_uri": "https://localhost:8080/"
        },
        "id": "wDD2T3b8L8PD",
        "outputId": "6946ee23-1073-4e53-a898-86bf8aa3d56f"
      },
      "execution_count": null,
      "outputs": [
        {
          "output_type": "stream",
          "name": "stdout",
          "text": [
            "[12]\n",
            "<class 'numpy.ndarray'>\n",
            "tensor([120])\n",
            "<class 'torch.Tensor'>\n"
          ]
        }
      ]
    },
    {
      "cell_type": "code",
      "source": [
        "#다른 텐서로부터 텐서 초기화\n",
        "x = torch.tensor([\n",
        "    [5,7],\n",
        "    [1,2]\n",
        "])\n",
        "\n",
        "#x와 같은 모양과 자료형을 가지지만, 값이 1인 텐서 생성\n",
        "x_ones = torch.ones_like(x)\n",
        "print(x_ones)\n",
        "#x와 같은 모양을 가지되, 자료형은 float으로 덮어쓰고, 값은 랜덤으로 채우기\n",
        "x_rand = torch.rand_like(x, dtype=torch.float32) #uniform distribution [0, 1]\n",
        "print(x_rand)"
      ],
      "metadata": {
        "colab": {
          "base_uri": "https://localhost:8080/"
        },
        "id": "2yeRSJHrMUOS",
        "outputId": "bd51b706-45ee-4d0e-960f-d6b305d7c595"
      },
      "execution_count": null,
      "outputs": [
        {
          "output_type": "stream",
          "name": "stdout",
          "text": [
            "tensor([[1, 1],\n",
            "        [1, 1]])\n",
            "tensor([[0.9065, 0.9146],\n",
            "        [0.5213, 0.5863]])\n"
          ]
        }
      ]
    },
    {
      "cell_type": "markdown",
      "source": [
        "#텐서의 형변환 및 차원조작"
      ],
      "metadata": {
        "id": "EH9GkvhI3M8L"
      }
    },
    {
      "cell_type": "code",
      "source": [
        "tensor = torch.tensor([\n",
        "    [1,2,3,4],\n",
        "    [5,6,7,8],\n",
        "    [9,10,11,12]\n",
        "])\n",
        "\n",
        "print(tensor[0]) # 첫번째 행\n",
        "print(tensor[:, 0]) # 첫번째 열\n",
        "print(tensor[..., -1]) # 마지막 열"
      ],
      "metadata": {
        "id": "3tZc6NTpM6IT",
        "colab": {
          "base_uri": "https://localhost:8080/"
        },
        "outputId": "221b555b-1680-4a8f-8c57-4f01862f5fdd"
      },
      "execution_count": null,
      "outputs": [
        {
          "output_type": "stream",
          "name": "stdout",
          "text": [
            "tensor([1, 2, 3, 4])\n",
            "tensor([1, 5, 9])\n",
            "tensor([ 4,  8, 12])\n"
          ]
        }
      ]
    },
    {
      "cell_type": "code",
      "source": [
        "#텐서 이어붙이기\n",
        "tensor = torch.tensor([\n",
        "    [1,2,3,4],\n",
        "    [5,6,7,8],\n",
        "    [9,10,11,12]\n",
        "])\n",
        "\n",
        "#dim : 텐서를 이어 붙이기 위한 축\n",
        "# 0번 축(행)을 기준으로 이어 붙이기\n",
        "result = torch.cat([tensor, tensor, tensor], dim=0)\n",
        "print(result)\n",
        "\n",
        "# 1번 축(행)을 기준으로 이어 붙이기\n",
        "result = torch.cat([tensor, tensor, tensor], dim=1)\n",
        "print(result)"
      ],
      "metadata": {
        "colab": {
          "base_uri": "https://localhost:8080/"
        },
        "id": "0PITFEoI3gXw",
        "outputId": "ae68042b-0a58-48c5-ade6-a354379a8845"
      },
      "execution_count": null,
      "outputs": [
        {
          "output_type": "stream",
          "name": "stdout",
          "text": [
            "tensor([[ 1,  2,  3,  4],\n",
            "        [ 5,  6,  7,  8],\n",
            "        [ 9, 10, 11, 12],\n",
            "        [ 1,  2,  3,  4],\n",
            "        [ 5,  6,  7,  8],\n",
            "        [ 9, 10, 11, 12],\n",
            "        [ 1,  2,  3,  4],\n",
            "        [ 5,  6,  7,  8],\n",
            "        [ 9, 10, 11, 12]])\n",
            "tensor([[ 1,  2,  3,  4,  1,  2,  3,  4,  1,  2,  3,  4],\n",
            "        [ 5,  6,  7,  8,  5,  6,  7,  8,  5,  6,  7,  8],\n",
            "        [ 9, 10, 11, 12,  9, 10, 11, 12,  9, 10, 11, 12]])\n"
          ]
        }
      ]
    },
    {
      "cell_type": "code",
      "source": [
        "#텐서 형변환\n",
        "a = torch.tensor([2], dtype=torch.int)\n",
        "b = torch.tensor([5.0])\n",
        "\n",
        "print(a.dtype)\n",
        "print(b.dtype)\n",
        "\n",
        "#텐서 a는 자동으로 float32형으로 형변환 처리\n",
        "print(a+b)\n",
        "#텐서 b는 int32형으로 형변환하여 덧셈 수행\n",
        "print(a+b.type(torch.int32))"
      ],
      "metadata": {
        "colab": {
          "base_uri": "https://localhost:8080/"
        },
        "id": "wgCGTWOa4N-K",
        "outputId": "f3eec6d3-7785-481b-a694-64e22f5cd1c5"
      },
      "execution_count": null,
      "outputs": [
        {
          "output_type": "stream",
          "name": "stdout",
          "text": [
            "torch.int32\n",
            "torch.float32\n",
            "tensor([7.])\n",
            "tensor([7], dtype=torch.int32)\n"
          ]
        }
      ]
    },
    {
      "cell_type": "code",
      "source": [
        "#텐서의 모양 변경 .. view()\n",
        "#텐서의 순서는 변경되지 않음\n",
        "a = torch.tensor([1,2,3,4,5,6,7,8])\n",
        "b = a.view(4,2)\n",
        "print(b)\n",
        "\n",
        "#a의 값을 변경하면 b도 변경됨\n",
        "a[0]=7\n",
        "print(b)\n",
        "\n",
        "#a의 값 을 복사한 뒤에 변경\n",
        "c = a.clone().view(4,2)\n",
        "a[0]=9\n",
        "print(c)"
      ],
      "metadata": {
        "colab": {
          "base_uri": "https://localhost:8080/"
        },
        "id": "oV_q0oaX4n_W",
        "outputId": "44d9628e-73e5-470d-f587-73abaff3a223"
      },
      "execution_count": null,
      "outputs": [
        {
          "output_type": "stream",
          "name": "stdout",
          "text": [
            "tensor([[1, 2],\n",
            "        [3, 4],\n",
            "        [5, 6],\n",
            "        [7, 8]])\n",
            "tensor([[7, 2],\n",
            "        [3, 4],\n",
            "        [5, 6],\n",
            "        [7, 8]])\n",
            "tensor([[7, 2],\n",
            "        [3, 4],\n",
            "        [5, 6],\n",
            "        [7, 8]])\n"
          ]
        }
      ]
    },
    {
      "cell_type": "code",
      "source": [
        "#텐서의 차원 교환\n",
        "a = torch.rand((64, 32, 3))\n",
        "print(a)\n",
        "print(a.shape)\n",
        "b = a.permute(2, 1, 0) # 차원 자체를 교환\n",
        "#(2번째 축, 1번째 축, 0번째 축)\n",
        "print(b.shape)"
      ],
      "metadata": {
        "colab": {
          "base_uri": "https://localhost:8080/"
        },
        "id": "WjgU7Jyx5VVO",
        "outputId": "c69f55bb-f5f3-4bff-f98b-9f8522ae01d7"
      },
      "execution_count": null,
      "outputs": [
        {
          "output_type": "stream",
          "name": "stdout",
          "text": [
            "tensor([[[0.4431, 0.0766, 0.4185],\n",
            "         [0.7519, 0.6603, 0.7285],\n",
            "         [0.1817, 0.3559, 0.7952],\n",
            "         ...,\n",
            "         [0.0705, 0.4567, 0.3232],\n",
            "         [0.6904, 0.6624, 0.0301],\n",
            "         [0.2435, 0.6409, 0.8660]],\n",
            "\n",
            "        [[0.7297, 0.1103, 0.8662],\n",
            "         [0.8987, 0.0897, 0.3472],\n",
            "         [0.6187, 0.6424, 0.1658],\n",
            "         ...,\n",
            "         [0.3011, 0.2714, 0.7780],\n",
            "         [0.2340, 0.7292, 0.4790],\n",
            "         [0.4403, 0.0569, 0.0147]],\n",
            "\n",
            "        [[0.5527, 0.2839, 0.2310],\n",
            "         [0.4034, 0.4828, 0.3624],\n",
            "         [0.2814, 0.3563, 0.1069],\n",
            "         ...,\n",
            "         [0.9219, 0.7547, 0.7865],\n",
            "         [0.1208, 0.8097, 0.2179],\n",
            "         [0.0840, 0.1112, 0.7776]],\n",
            "\n",
            "        ...,\n",
            "\n",
            "        [[0.4246, 0.6468, 0.7615],\n",
            "         [0.7861, 0.3174, 0.6323],\n",
            "         [0.0696, 0.2789, 0.5260],\n",
            "         ...,\n",
            "         [0.5215, 0.9865, 0.5063],\n",
            "         [0.5759, 0.6100, 0.2569],\n",
            "         [0.3625, 0.2419, 0.4894]],\n",
            "\n",
            "        [[0.6889, 0.1729, 0.0225],\n",
            "         [0.4475, 0.9932, 0.6515],\n",
            "         [0.0752, 0.8958, 0.2409],\n",
            "         ...,\n",
            "         [0.0995, 0.3781, 0.5346],\n",
            "         [0.3101, 0.5466, 0.0808],\n",
            "         [0.8657, 0.3788, 0.3365]],\n",
            "\n",
            "        [[0.7747, 0.6067, 0.2769],\n",
            "         [0.5503, 0.1856, 0.8976],\n",
            "         [0.2861, 0.5475, 0.6134],\n",
            "         ...,\n",
            "         [0.6777, 0.0197, 0.5620],\n",
            "         [0.0500, 0.5900, 0.3631],\n",
            "         [0.4329, 0.9310, 0.2381]]])\n",
            "torch.Size([64, 32, 3])\n",
            "torch.Size([3, 32, 64])\n"
          ]
        }
      ]
    },
    {
      "cell_type": "markdown",
      "source": [
        "#텐서의 연산과 함수"
      ],
      "metadata": {
        "id": "x30fp_8XszYt"
      }
    },
    {
      "cell_type": "code",
      "source": [
        "#같은 크기를 가진 두 개의 텐서에 대하여 사칙연산이 가능함\n",
        "#기본적으로 요소별(element-wise) 연산\n",
        "a = torch.tensor([\n",
        "    [1,2],\n",
        "    [3,4]\n",
        "])\n",
        "b = torch.tensor([\n",
        "    [5,6],\n",
        "    [7,8]\n",
        "])\n",
        "\n",
        "print(a + b)\n",
        "print(a - b)\n",
        "print(a * b)\n",
        "print(a / b)\n"
      ],
      "metadata": {
        "id": "93dn27wl5yhc",
        "colab": {
          "base_uri": "https://localhost:8080/"
        },
        "outputId": "b54d5958-f539-4e7f-cffa-f005428cbb31"
      },
      "execution_count": null,
      "outputs": [
        {
          "output_type": "stream",
          "name": "stdout",
          "text": [
            "tensor([[ 6,  8],\n",
            "        [10, 12]])\n",
            "tensor([[-4, -4],\n",
            "        [-4, -4]])\n",
            "tensor([[ 5, 12],\n",
            "        [21, 32]])\n",
            "tensor([[0.2000, 0.3333],\n",
            "        [0.4286, 0.5000]])\n"
          ]
        }
      ]
    },
    {
      "cell_type": "code",
      "source": [
        "#행렬곱\n",
        "a = torch.tensor([\n",
        "    [1,2],\n",
        "    [3,4]\n",
        "])\n",
        "b = torch.tensor([\n",
        "    [5,6],\n",
        "    [7,8]\n",
        "])\n",
        "print(a.matmul(b))\n",
        "print(torch.matmul(a,b))"
      ],
      "metadata": {
        "colab": {
          "base_uri": "https://localhost:8080/"
        },
        "id": "uWkVkohZtIME",
        "outputId": "a9d20d00-5b74-4d1d-df83-8842b82a425b"
      },
      "execution_count": null,
      "outputs": [
        {
          "output_type": "stream",
          "name": "stdout",
          "text": [
            "tensor([[19, 22],\n",
            "        [43, 50]])\n",
            "tensor([[19, 22],\n",
            "        [43, 50]])\n"
          ]
        }
      ]
    },
    {
      "cell_type": "code",
      "source": [
        "#평균함수\n",
        "a = torch.Tensor([\n",
        "    [1,2,3,4],\n",
        "    [5,6,7,8]\n",
        "])\n",
        "print(a)\n",
        "print(a.mean()) #전체원소\n",
        "print(a.mean(dim=0)) # 각 열에 대한 평균\n",
        "print(a.mean(dim=1)) # 각 행에 대한 평균"
      ],
      "metadata": {
        "colab": {
          "base_uri": "https://localhost:8080/"
        },
        "id": "kcTBtRWptk0b",
        "outputId": "c3facd3d-e5c3-4558-d6fa-0c5c41482a4b"
      },
      "execution_count": null,
      "outputs": [
        {
          "output_type": "stream",
          "name": "stdout",
          "text": [
            "tensor([[1., 2., 3., 4.],\n",
            "        [5., 6., 7., 8.]])\n",
            "tensor(4.5000)\n",
            "tensor([3., 4., 5., 6.])\n",
            "tensor([2.5000, 6.5000])\n"
          ]
        }
      ]
    },
    {
      "cell_type": "code",
      "source": [
        "#합계함수\n",
        "a = torch.Tensor([\n",
        "    [1,2,3,4],\n",
        "    [5,6,7,8]\n",
        "])\n",
        "print(a)\n",
        "print(a.sum()) #전체원소\n",
        "print(a.sum(dim=0)) # 각 열에 대한 합\n",
        "print(a.sum(dim=1)) # 각 행에 대한 합"
      ],
      "metadata": {
        "colab": {
          "base_uri": "https://localhost:8080/"
        },
        "id": "1kYu2v66t0d3",
        "outputId": "5d354bcc-43b9-4566-846a-0d747ca1555f"
      },
      "execution_count": null,
      "outputs": [
        {
          "output_type": "stream",
          "name": "stdout",
          "text": [
            "tensor([[1., 2., 3., 4.],\n",
            "        [5., 6., 7., 8.]])\n",
            "tensor(36.)\n",
            "tensor([ 6.,  8., 10., 12.])\n",
            "tensor([10., 26.])\n"
          ]
        }
      ]
    },
    {
      "cell_type": "code",
      "source": [
        "#텐서의 최대 함수\n",
        "#max() : 원소의 최댓값 반환\n",
        "#argmax() : 가장 큰 원소(최댓값)의 인덱스 반환\n",
        "a = torch.Tensor([\n",
        "    [1,2,3,4],\n",
        "    [5,6,7,8]\n",
        "])\n",
        "print(a)\n",
        "print(a.max())\n",
        "print(a.max(dim=0))\n",
        "print(a.max(dim=1))"
      ],
      "metadata": {
        "colab": {
          "base_uri": "https://localhost:8080/"
        },
        "id": "5dwz_CLyuJhc",
        "outputId": "823c50ad-baa7-47a5-b648-8d014ff89fdf"
      },
      "execution_count": null,
      "outputs": [
        {
          "output_type": "stream",
          "name": "stdout",
          "text": [
            "tensor([[1., 2., 3., 4.],\n",
            "        [5., 6., 7., 8.]])\n",
            "tensor(8.)\n",
            "torch.return_types.max(\n",
            "values=tensor([5., 6., 7., 8.]),\n",
            "indices=tensor([1, 1, 1, 1]))\n",
            "torch.return_types.max(\n",
            "values=tensor([4., 8.]),\n",
            "indices=tensor([3, 3]))\n"
          ]
        }
      ]
    },
    {
      "cell_type": "code",
      "source": [
        "a = torch.Tensor([\n",
        "    [1,2,3,4],\n",
        "    [5,6,7,8]\n",
        "])\n",
        "print(a)\n",
        "print(a.argmax())\n",
        "print(a.argmax(dim=0))\n",
        "print(a.argmax(dim=1))"
      ],
      "metadata": {
        "colab": {
          "base_uri": "https://localhost:8080/"
        },
        "id": "m4NSjT1CugYJ",
        "outputId": "311dd875-0d54-44fc-96d9-b0b35bd44910"
      },
      "execution_count": null,
      "outputs": [
        {
          "output_type": "stream",
          "name": "stdout",
          "text": [
            "tensor([[1., 2., 3., 4.],\n",
            "        [5., 6., 7., 8.]])\n",
            "tensor(7)\n",
            "tensor([1, 1, 1, 1])\n",
            "tensor([3, 3])\n"
          ]
        }
      ]
    },
    {
      "cell_type": "code",
      "source": [
        "#텐서의 차원 줄이기 / 늘리기\n",
        "# unsqueeze() : 크기가 1인 차원을 추가함\n",
        "# squeeze() : 크기가 1인 차원을 제거함\n",
        "a = torch.Tensor([\n",
        "    [1,2,3,4],\n",
        "    [5,6,7,8]\n",
        "])\n",
        "print(a.shape)\n",
        "\n",
        "#첫 번째 축에 차원 추가\n",
        "a = a.unsqueeze(0)\n",
        "print(a)\n",
        "print(a.shape)\n",
        "\n",
        "#네 번째 축에 차원 추가\n",
        "a = a.unsqueeze(3)\n",
        "print(a)\n",
        "print(a.shape)"
      ],
      "metadata": {
        "colab": {
          "base_uri": "https://localhost:8080/"
        },
        "id": "rpPOpZ05us7J",
        "outputId": "395c6e2e-8476-49dc-e379-236f9ba2df84"
      },
      "execution_count": null,
      "outputs": [
        {
          "output_type": "stream",
          "name": "stdout",
          "text": [
            "torch.Size([2, 4])\n",
            "tensor([[[1., 2., 3., 4.],\n",
            "         [5., 6., 7., 8.]]])\n",
            "torch.Size([1, 2, 4])\n",
            "tensor([[[[1.],\n",
            "          [2.],\n",
            "          [3.],\n",
            "          [4.]],\n",
            "\n",
            "         [[5.],\n",
            "          [6.],\n",
            "          [7.],\n",
            "          [8.]]]])\n",
            "torch.Size([1, 2, 4, 1])\n"
          ]
        }
      ]
    },
    {
      "cell_type": "code",
      "source": [
        "a = a.squeeze()\n",
        "print(a)\n",
        "print(a.shape)"
      ],
      "metadata": {
        "colab": {
          "base_uri": "https://localhost:8080/"
        },
        "id": "wNxYkruKvGcE",
        "outputId": "50c8b6d1-dacc-4fdb-f675-df5e9af802d7"
      },
      "execution_count": null,
      "outputs": [
        {
          "output_type": "stream",
          "name": "stdout",
          "text": [
            "tensor([[1., 2., 3., 4.],\n",
            "        [5., 6., 7., 8.]])\n",
            "torch.Size([2, 4])\n"
          ]
        }
      ]
    },
    {
      "cell_type": "markdown",
      "source": [
        "# 자동 미분과 기울기(Gradient)"
      ],
      "metadata": {
        "id": "Y6jqwfZcvxJ2"
      }
    },
    {
      "cell_type": "code",
      "source": [
        "import torch\n",
        "\n",
        "#requires_grad를 설정할 때만 기울기 추적\n",
        "x = torch.tensor([3.0, 4.0], requires_grad = True)\n",
        "y = torch.tensor([1.0, 2.0], requires_grad = True)\n",
        "z = x + y\n",
        "\n",
        "print(z)\n",
        "print(z.grad_fn)\n",
        "\n",
        "out = z.mean()\n",
        "print(out)\n",
        "print(out.grad_fn)\n",
        "\n",
        "out.backward() # scalar에 대하여\n",
        "print(x.grad)\n",
        "print(y.grad)\n",
        "print(z.grad) # leaf variable에 대해서만 gradient추적이 가능하다. 따라서 None"
      ],
      "metadata": {
        "colab": {
          "base_uri": "https://localhost:8080/"
        },
        "id": "47SSd96SvSVQ",
        "outputId": "21f84cb3-bce9-4554-ee70-c75851253c20"
      },
      "execution_count": null,
      "outputs": [
        {
          "output_type": "stream",
          "name": "stdout",
          "text": [
            "tensor([4., 6.], grad_fn=<AddBackward0>)\n",
            "<AddBackward0 object at 0x7ef54cd02f20>\n",
            "tensor(5., grad_fn=<MeanBackward0>)\n",
            "<MeanBackward0 object at 0x7ef54cd02a40>\n",
            "tensor([0.5000, 0.5000])\n",
            "tensor([0.5000, 0.5000])\n",
            "None\n"
          ]
        },
        {
          "output_type": "stream",
          "name": "stderr",
          "text": [
            "<ipython-input-27-e4da87c83933>:18: UserWarning: The .grad attribute of a Tensor that is not a leaf Tensor is being accessed. Its .grad attribute won't be populated during autograd.backward(). If you indeed want the .grad field to be populated for a non-leaf Tensor, use .retain_grad() on the non-leaf Tensor. If you access the non-leaf Tensor by mistake, make sure you access the leaf Tensor instead. See github.com/pytorch/pytorch/pull/30531 for more informations. (Triggered internally at aten/src/ATen/core/TensorBody.h:489.)\n",
            "  print(z.grad) # leaf variable에 대해서만 gradient추적이 가능하다. 따라서 None\n"
          ]
        }
      ]
    },
    {
      "cell_type": "code",
      "source": [
        "# 일반적으로 모델을 학습할 때는 기울기를 추적함.\n",
        "# 학습된 모델을 사용할 때는 파라미터를 업데이트 하지 않음. -> 기울기를 추적하지 않는 것이 일반적이다.\n",
        "\n",
        "temp = torch.tensor([3.0, 4.0], requires_grad = True)\n",
        "print(temp.requires_grad)\n",
        "print((temp**2).requires_grad)\n",
        "\n",
        "#기울기 추적x -> 계산속도가 더 빠름\n",
        "with torch.no_grad():\n",
        "  temp = torch.tensor([3.0, 4.0], requires_grad = True)\n",
        "  print(temp.requires_grad)\n",
        "  print((temp**2).requires_grad)"
      ],
      "metadata": {
        "colab": {
          "base_uri": "https://localhost:8080/"
        },
        "id": "cR907_TWwuPZ",
        "outputId": "2f3e8bc6-3647-4b42-87c5-42fc799c4b43"
      },
      "execution_count": null,
      "outputs": [
        {
          "output_type": "stream",
          "name": "stdout",
          "text": [
            "True\n",
            "True\n",
            "True\n",
            "False\n"
          ]
        }
      ]
    },
    {
      "cell_type": "code",
      "source": [],
      "metadata": {
        "id": "bYk1KB4XxrUY"
      },
      "execution_count": null,
      "outputs": []
    }
  ]
}
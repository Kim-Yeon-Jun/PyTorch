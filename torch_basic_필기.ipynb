{
  "nbformat": 4,
  "nbformat_minor": 0,
  "metadata": {
    "colab": {
      "provenance": [],
      "include_colab_link": true
    },
    "kernelspec": {
      "name": "python3",
      "display_name": "Python 3"
    },
    "language_info": {
      "name": "python"
    }
  },
  "cells": [
    {
      "cell_type": "markdown",
      "metadata": {
        "id": "view-in-github",
        "colab_type": "text"
      },
      "source": [
        "<a href=\"https://colab.research.google.com/github/Kim-Yeon-Jun/PyTorch/blob/main/torch_basic_%ED%95%84%EA%B8%B0.ipynb\" target=\"_parent\"><img src=\"https://colab.research.google.com/assets/colab-badge.svg\" alt=\"Open In Colab\"/></a>"
      ]
    },
    {
      "cell_type": "markdown",
      "source": [
        "## numpy와 닮은 Pytorch"
      ],
      "metadata": {
        "id": "RzMsP9hsc36l"
      }
    },
    {
      "cell_type": "code",
      "source": [
        "import torch\n",
        "a=torch.tensor([1,2,3,4])\n",
        "print(a)\n",
        "print(type(a))\n",
        "print(a.dtype) # data type\n",
        "print(a.shape)\n",
        "b=torch.tensor([1,2, 3.1   , 4])\n",
        "print(b.dtype) # 하나라도 실수면 자동으로 실수 타입으로\n",
        "print(b)"
      ],
      "metadata": {
        "colab": {
          "base_uri": "https://localhost:8080/"
        },
        "id": "SAmMX78Lc3Iy",
        "outputId": "0e3b7820-d768-42e9-d4b5-7c03fd8820e6"
      },
      "execution_count": 1,
      "outputs": [
        {
          "output_type": "stream",
          "name": "stdout",
          "text": [
            "tensor([1, 2, 3, 4])\n",
            "<class 'torch.Tensor'>\n",
            "torch.int64\n",
            "torch.Size([4])\n",
            "torch.float32\n",
            "tensor([1.0000, 2.0000, 3.1000, 4.0000])\n"
          ]
        }
      ]
    },
    {
      "cell_type": "code",
      "source": [
        "A=torch.tensor([[1,2,3],[3,4,5]]) # 이 셀부터는 import torch 는 실행 했다 치고 작성\n",
        "#A=torch.tensor([[1,2],[3,4,5]]) # 리스트와는 달리 이제는 행렬이라서 각 행에 해당하는 숫자의 개수가 같아야 함\n",
        "print(A)\n",
        "print(A.shape)\n",
        "print(A.ndim) # 차원의 수\n",
        "print(A.size) # 전체 성분의 수\n",
        "print(A.numel()) # 전체 성분의 수"
      ],
      "metadata": {
        "colab": {
          "base_uri": "https://localhost:8080/"
        },
        "id": "QRPA6o3EdDy5",
        "outputId": "6f3da2a2-844b-43eb-fb4c-17fa14ee3629"
      },
      "execution_count": null,
      "outputs": [
        {
          "output_type": "stream",
          "name": "stdout",
          "text": [
            "tensor([[1, 2, 3],\n",
            "        [3, 4, 5]])\n",
            "torch.Size([2, 3])\n",
            "2\n",
            "<built-in method size of Tensor object at 0x7df44ee1a660>\n",
            "6\n"
          ]
        }
      ]
    },
    {
      "cell_type": "code",
      "source": [
        "print(torch.zeros(5))\n",
        "print(torch.zeros_like(A))\n",
        "print(torch.ones(5))\n",
        "print(torch.zeros( (3,3) ))\n",
        "print(torch.arange(3,10,2)) # range랑 같은데 tensor로 만들어줌 //3부터 10 미만\n",
        "print(torch.arange(0,1,0.1)) # 소수점 가능\n",
        "print(torch.linspace(0,1,10)) # 0 에서부터 1 포함(default) 10개로"
      ],
      "metadata": {
        "colab": {
          "base_uri": "https://localhost:8080/"
        },
        "id": "DtQ20sP8dv8i",
        "outputId": "d431442d-ea4d-4711-ec78-50bcbeceb477"
      },
      "execution_count": null,
      "outputs": [
        {
          "output_type": "stream",
          "name": "stdout",
          "text": [
            "tensor([0., 0., 0., 0., 0.])\n",
            "tensor([[0, 0, 0],\n",
            "        [0, 0, 0]])\n",
            "tensor([1., 1., 1., 1., 1.])\n",
            "tensor([[0., 0., 0.],\n",
            "        [0., 0., 0.],\n",
            "        [0., 0., 0.]])\n",
            "tensor([3, 5, 7, 9])\n",
            "tensor([0.0000, 0.1000, 0.2000, 0.3000, 0.4000, 0.5000, 0.6000, 0.7000, 0.8000,\n",
            "        0.9000])\n",
            "tensor([0.0000, 0.1111, 0.2222, 0.3333, 0.4444, 0.5556, 0.6667, 0.7778, 0.8889,\n",
            "        1.0000])\n"
          ]
        }
      ]
    },
    {
      "cell_type": "code",
      "source": [
        "a=torch.tensor([1,2,3])\n",
        "b=torch.tensor([4,5,6])\n",
        "c=a+b\n",
        "print(c)\n",
        "[1,2,3] + [3,4,5] # 리스트에서의 연산"
      ],
      "metadata": {
        "colab": {
          "base_uri": "https://localhost:8080/"
        },
        "id": "mEY_M0PPfRCz",
        "outputId": "4e1177d6-7c6a-4d7e-a7e1-ddb10ec7cca0"
      },
      "execution_count": null,
      "outputs": [
        {
          "output_type": "stream",
          "name": "stdout",
          "text": [
            "tensor([5, 7, 9])\n"
          ]
        },
        {
          "output_type": "execute_result",
          "data": {
            "text/plain": [
              "[1, 2, 3, 3, 4, 5]"
            ]
          },
          "metadata": {},
          "execution_count": 4
        }
      ]
    },
    {
      "cell_type": "code",
      "source": [
        "A=torch.tensor([[1,2,3],[1,2,3]])\n",
        "B=torch.tensor([[4,5,6],[1,1,1]])\n",
        "C=A+B\n",
        "D=A-B\n",
        "print(C)\n",
        "print(D)\n",
        "print()\n",
        "print(A*B) # 곱셈은? 성분끼리의 곱! (Hadamard product)\n",
        "print(A/B) # 나누기도 마찬가지\n",
        "print(B**2) # 제곱도 각 성분에 대해서 해준다"
      ],
      "metadata": {
        "colab": {
          "base_uri": "https://localhost:8080/"
        },
        "id": "zRGH_ASMfY5q",
        "outputId": "3e5e6340-fdb9-4669-94c3-f411e8746c2f"
      },
      "execution_count": null,
      "outputs": [
        {
          "output_type": "stream",
          "name": "stdout",
          "text": [
            "tensor([[5, 7, 9],\n",
            "        [2, 3, 4]])\n",
            "tensor([[-3, -3, -3],\n",
            "        [ 0,  1,  2]])\n",
            "\n",
            "tensor([[ 4, 10, 18],\n",
            "        [ 1,  2,  3]])\n",
            "tensor([[0.2500, 0.4000, 0.5000],\n",
            "        [1.0000, 2.0000, 3.0000]])\n",
            "tensor([[16, 25, 36],\n",
            "        [ 1,  1,  1]])\n"
          ]
        }
      ]
    },
    {
      "cell_type": "code",
      "source": [
        "A=torch.tensor([[1,2],[3,4]])\n",
        "B=torch.tensor([[1,2],[3,4]])\n",
        "print(A*B)\n",
        "print(A@B) # 이게 진짜 행렬 곱하기"
      ],
      "metadata": {
        "colab": {
          "base_uri": "https://localhost:8080/"
        },
        "id": "LDMR3HebgeIS",
        "outputId": "7552bc55-d8c1-487d-fab3-74b54cd127d9"
      },
      "execution_count": null,
      "outputs": [
        {
          "output_type": "stream",
          "name": "stdout",
          "text": [
            "tensor([[ 1,  4],\n",
            "        [ 9, 16]])\n",
            "tensor([[ 7, 10],\n",
            "        [15, 22]])\n"
          ]
        }
      ]
    },
    {
      "cell_type": "markdown",
      "source": [
        "## pytorch 의 인덱싱 슬라이스"
      ],
      "metadata": {
        "id": "lwIW_G6ThRuW"
      }
    },
    {
      "cell_type": "code",
      "source": [
        "a=torch.tensor([1,2,3,4,5,6,7,8,9])\n",
        "# 인덱싱과 슬라이싱, list할 때와 동일!\n",
        "print(a[0])\n",
        "print(a[1])\n",
        "print(a[-1])\n",
        "print(a[1:4])\n",
        "print(a[7:])\n",
        "print(a[:7])\n",
        "print(a[:])"
      ],
      "metadata": {
        "colab": {
          "base_uri": "https://localhost:8080/"
        },
        "id": "EvEXUodtlOyq",
        "outputId": "253c0868-a23e-4f89-d4be-a9791bff7d3a"
      },
      "execution_count": null,
      "outputs": [
        {
          "output_type": "stream",
          "name": "stdout",
          "text": [
            "tensor(1)\n",
            "tensor(2)\n",
            "tensor(9)\n",
            "tensor([2, 3, 4])\n",
            "tensor([8, 9])\n",
            "tensor([1, 2, 3, 4, 5, 6, 7])\n",
            "tensor([1, 2, 3, 4, 5, 6, 7, 8, 9])\n"
          ]
        }
      ]
    },
    {
      "cell_type": "code",
      "source": [
        "# 행렬에 대한 인덱싱과 슬라이싱\n",
        "A=torch.tensor([[1,2,3],[4,5,6],[7,8,9]])\n",
        "print(A[0]) # 하나만 쓰면 행에 대한 인덱싱 (리스트 속 리스트 생각)\n",
        "print(A[-1])\n",
        "print(A[1:])\n",
        "print(A[:])\n",
        "print(A[0][2])\n",
        "print(A[0,2]) # 2차원 행렬도 동일한데, 리스트와 달리 이런 것도 됨\n",
        "B=[[1,2,3,4], [5,6,7,8]]\n",
        "print(B)\n",
        "print(B[0][2])\n",
        "# print(B[0,2]) # error!\n",
        "print(A[1,:]) # 1 행, 전부\n",
        "print(A[1,0:3:2])\n",
        "print(A[:,2]) # 전부, 2 열\n",
        "print(A[:][2])"
      ],
      "metadata": {
        "colab": {
          "base_uri": "https://localhost:8080/"
        },
        "id": "4PSLeE0flTMC",
        "outputId": "97b99492-cf01-44a3-dc09-e692931e6289"
      },
      "execution_count": null,
      "outputs": [
        {
          "output_type": "stream",
          "name": "stdout",
          "text": [
            "tensor([1, 2, 3])\n",
            "tensor([7, 8, 9])\n",
            "tensor([[4, 5, 6],\n",
            "        [7, 8, 9]])\n",
            "tensor([[1, 2, 3],\n",
            "        [4, 5, 6],\n",
            "        [7, 8, 9]])\n",
            "tensor(3)\n",
            "tensor(3)\n",
            "[[1, 2, 3, 4], [5, 6, 7, 8]]\n",
            "3\n",
            "tensor([4, 5, 6])\n",
            "tensor([4, 6])\n",
            "tensor([3, 6, 9])\n",
            "tensor([7, 8, 9])\n"
          ]
        }
      ]
    },
    {
      "cell_type": "code",
      "source": [
        "# 3차원 행렬 인덱싱\n",
        "A=torch.tensor([ [[0,1,2,3],[4,5,6,7],[8,9,10,11]] ,\n",
        "             [[12,13,14,15],[16,17,18,19],[20,21,22,23]] ])\n",
        "print(A)\n",
        "print(A.shape) # 대괄호가 하나 늘어나면 왼쪽에 shape 값이 추가 된다.\n",
        "print(A[0,1,2])\n",
        "\n",
        "a=torch.tensor([[[1,2,3,4]]])\n",
        "print(a.shape)"
      ],
      "metadata": {
        "colab": {
          "base_uri": "https://localhost:8080/"
        },
        "id": "y6Zg1lZ9ZIBe",
        "outputId": "65d8e469-b9a2-4884-d28c-81495841538e"
      },
      "execution_count": null,
      "outputs": [
        {
          "output_type": "stream",
          "name": "stdout",
          "text": [
            "tensor([[[ 0,  1,  2,  3],\n",
            "         [ 4,  5,  6,  7],\n",
            "         [ 8,  9, 10, 11]],\n",
            "\n",
            "        [[12, 13, 14, 15],\n",
            "         [16, 17, 18, 19],\n",
            "         [20, 21, 22, 23]]])\n",
            "torch.Size([2, 3, 4])\n",
            "tensor(6)\n",
            "torch.Size([1, 1, 4])\n"
          ]
        }
      ]
    },
    {
      "cell_type": "code",
      "source": [
        "# boolean 인덱싱\n",
        "a=[1,2,3,4,5,3,3]\n",
        "print(a==3) # 여러개 값 들어있는 리스트랑 3 달랑 하나랑 같냐? 다르다!\n",
        "A=torch.tensor([[1,2,3,4],[5,3,7,3]])\n",
        "print(A==3) # 리스트와 달리 각 성분에 대해 비교해줌\n",
        "print(A[A==3]) # True, False가 담긴 행렬로 인덱싱 가능!!\n",
        "\n",
        "print(\"====\")\n",
        "\n",
        "A[A==3] = 100\n",
        "print(A) # 그러면 이런 것도 가능하다! (3과 같은 애를 100으로 바꿔줘)\n",
        "\n",
        "print(\"====\")\n",
        "\n",
        "A=torch.tensor([[1,2],[3,4],[5,6],[7,8]])\n",
        "B=torch.tensor([True, False, False, True]) # 참고로 그냥 리스트여도 됨\n",
        "print(A[B,:]) # 0행, 3행 슬라이싱\n",
        "\n",
        "print(\"====\")\n",
        "\n",
        "b=torch.tensor([1,2,3,4])\n",
        "print(b[[True,True,False,False]])\n",
        "c=[1,2,3,4]\n",
        "# c[[True,True,False,False]] # error!"
      ],
      "metadata": {
        "colab": {
          "base_uri": "https://localhost:8080/"
        },
        "id": "DBjH6loolzdS",
        "outputId": "eb80f7a2-be03-4aa6-ac17-ab4418295d88"
      },
      "execution_count": null,
      "outputs": [
        {
          "output_type": "stream",
          "name": "stdout",
          "text": [
            "False\n",
            "tensor([[False, False,  True, False],\n",
            "        [False,  True, False,  True]])\n",
            "tensor([3, 3, 3])\n",
            "====\n",
            "tensor([[  1,   2, 100,   4],\n",
            "        [  5, 100,   7, 100]])\n",
            "====\n",
            "tensor([[1, 2],\n",
            "        [7, 8]])\n",
            "====\n",
            "tensor([1, 2])\n"
          ]
        }
      ]
    },
    {
      "cell_type": "code",
      "source": [
        "# tensor로 인덱싱\n",
        "a=torch.tensor([1,2,3,4,5])\n",
        "A=a[2]\n",
        "print(A)\n",
        "A=a[ torch.tensor(2) ] # torch.tensor를 안에다가?\n",
        "print(A)\n",
        "A=a[ torch.tensor([2,3,4]) ]\n",
        "print(A)\n",
        "A=a[ torch.tensor([[2,2,2],[3,3,3]]) ]\n",
        "print(A) # 인덱싱된 애들로 2행 3열짜리 행렬을 만든다\n",
        "\n",
        "a=[1,2,3]\n",
        "# a[ [1,1,1,1,2,2,2] ] # error!\n",
        "\n",
        "a=torch.tensor([[1,2,3],[4,5,6]])\n",
        "print(a[0])\n",
        "A=a[ torch.tensor([[0,1],[1,1]]) ]\n",
        "print(A.shape) # 예를 들어, a[0] = tensor([1,2,3])과 같이 1차원 데이터이므로 한 차원이 뒤에 늘어나서 2,2, \"3\" 이 된다!\n",
        "print(A) # segmentation 결과 그림 보여줄 때 사용!"
      ],
      "metadata": {
        "colab": {
          "base_uri": "https://localhost:8080/"
        },
        "id": "FzKn6wIJZAgn",
        "outputId": "a1e44910-3bf5-4678-d705-aa8b5669d5a9"
      },
      "execution_count": null,
      "outputs": [
        {
          "output_type": "stream",
          "name": "stdout",
          "text": [
            "tensor(3)\n",
            "tensor(3)\n",
            "tensor([3, 4, 5])\n",
            "tensor([[3, 3, 3],\n",
            "        [4, 4, 4]])\n",
            "tensor([1, 2, 3])\n",
            "torch.Size([2, 2, 3])\n",
            "tensor([[[1, 2, 3],\n",
            "         [4, 5, 6]],\n",
            "\n",
            "        [[4, 5, 6],\n",
            "         [4, 5, 6]]])\n"
          ]
        }
      ]
    },
    {
      "cell_type": "code",
      "source": [
        "A=torch.tensor([[1,2],[3,4],[5,6],[7,8]])\n",
        "print(A)\n",
        "print(A.shape)\n",
        "\n",
        "print(\">>1\")\n",
        "# 1. A[몇 번째 행이냐, 몇 번째 열이냐]\n",
        "print(A[0,1])\n",
        "\n",
        "print(\">>2\")\n",
        "# 2. A[ tensor(bool) ] => A와 같은 shape을 가지는 tensor형 bool이 어디에 True를 가지고 있냐\n",
        "print(A[ torch.tensor([[False,True],[False,False],[False,False],[False,False]]) ])\n",
        "print(A[A==2])\n",
        "\n",
        "print(\">>3\")\n",
        "# 3. A[몇 번째 값에 True가 있냐, 몇 번째 값에 True가 있냐]\n",
        "print(A[ [True,False,False,False], [False,True] ])\n",
        "\n",
        "print(\">>4\")\n",
        "# 4. A[ tensor ] # 몇 번째 것을 어떻게 쌓을거냐\n",
        "print(A[ torch.tensor([1,1,2,2,2]) ])"
      ],
      "metadata": {
        "colab": {
          "base_uri": "https://localhost:8080/"
        },
        "id": "BBEF3i6xl1sK",
        "outputId": "c1d2dab5-cffc-4fed-eaf5-62fb473262cf"
      },
      "execution_count": null,
      "outputs": [
        {
          "output_type": "stream",
          "name": "stdout",
          "text": [
            "tensor([[1, 2],\n",
            "        [3, 4],\n",
            "        [5, 6],\n",
            "        [7, 8]])\n",
            "torch.Size([4, 2])\n",
            ">>1\n",
            "tensor(2)\n",
            ">>2\n",
            "tensor([2])\n",
            "tensor([2])\n",
            ">>3\n",
            "tensor([2])\n",
            ">>4\n",
            "tensor([[3, 4],\n",
            "        [3, 4],\n",
            "        [5, 6],\n",
            "        [5, 6],\n",
            "        [5, 6]])\n"
          ]
        }
      ]
    },
    {
      "cell_type": "markdown",
      "source": [
        "## pytorch의 여러 함수들"
      ],
      "metadata": {
        "id": "QYBXKfCupHU9"
      }
    },
    {
      "cell_type": "code",
      "source": [
        "A=torch.randn(3,3) # 여긴 튜플로 안줘도 됨\n",
        "B=torch.rand(3,3)\n",
        "print(A)\n",
        "print(B)\n",
        "print(A[A[:,0]<0,:]) # 0 번째 열이 음수인 행들"
      ],
      "metadata": {
        "colab": {
          "base_uri": "https://localhost:8080/"
        },
        "id": "0lfFqRGOpI-0",
        "outputId": "6e64dfdf-5d33-489b-db14-6c4bdada5ecf"
      },
      "execution_count": null,
      "outputs": [
        {
          "output_type": "stream",
          "name": "stdout",
          "text": [
            "[[-1.67088393  1.20670741  0.54234205]\n",
            " [ 1.36383223 -0.25169022  0.41783062]\n",
            " [ 0.47468166 -0.92600609  0.21809043]]\n",
            "[[0.89976423 0.07464855 0.03793748]\n",
            " [0.83516205 0.6430013  0.08906904]\n",
            " [0.56968633 0.28267234 0.7287293 ]]\n",
            "[[-1.67088393  1.20670741  0.54234205]]\n"
          ]
        }
      ]
    },
    {
      "cell_type": "code",
      "source": [
        "A=torch.randn(3,3)\n",
        "print(A)\n",
        "print(torch.abs(A))\n",
        "print(torch.sqrt(torch.abs(A)))\n",
        "print(torch.exp(A))\n",
        "print(torch.log(torch.abs(A)))\n",
        "print(torch.log(torch.exp(torch.tensor(1)))) # torch.exp(torch.tensor(1)) = e^1\n",
        "print(torch.log10(torch.tensor(10)))\n",
        "print(torch.log2(torch.tensor(2)))\n",
        "print(torch.round(A)) # 반올림\n",
        "print(torch.round(A,decimals=2)) # 소수점 둘째자리까지\n",
        "print(torch.floor(A)) # 내림\n",
        "print(torch.ceil(A)) # 올림"
      ],
      "metadata": {
        "colab": {
          "base_uri": "https://localhost:8080/"
        },
        "id": "J6KxUXALpniU",
        "outputId": "dc16a973-71b9-4646-fb75-7ead03db76a7"
      },
      "execution_count": null,
      "outputs": [
        {
          "output_type": "stream",
          "name": "stdout",
          "text": [
            "tensor([[ 0.3973, -0.6803,  0.5593],\n",
            "        [ 0.0370,  1.4201, -0.8894],\n",
            "        [-0.9618,  0.4634,  0.6650]])\n",
            "tensor([[0.3973, 0.6803, 0.5593],\n",
            "        [0.0370, 1.4201, 0.8894],\n",
            "        [0.9618, 0.4634, 0.6650]])\n",
            "tensor([[0.6303, 0.8248, 0.7478],\n",
            "        [0.1923, 1.1917, 0.9431],\n",
            "        [0.9807, 0.6808, 0.8155]])\n",
            "tensor([[1.4878, 0.5064, 1.7494],\n",
            "        [1.0377, 4.1375, 0.4109],\n",
            "        [0.3822, 1.5895, 1.9444]])\n",
            "tensor([[-0.9230, -0.3852, -0.5811],\n",
            "        [-3.2969,  0.3507, -0.1172],\n",
            "        [-0.0389, -0.7691, -0.4080]])\n",
            "tensor(1.)\n",
            "tensor(1.)\n",
            "tensor(1.)\n",
            "tensor([[ 0., -1.,  1.],\n",
            "        [ 0.,  1., -1.],\n",
            "        [-1.,  0.,  1.]])\n",
            "tensor([[ 0.4000, -0.6800,  0.5600],\n",
            "        [ 0.0400,  1.4200, -0.8900],\n",
            "        [-0.9600,  0.4600,  0.6600]])\n",
            "tensor([[ 0., -1.,  0.],\n",
            "        [ 0.,  1., -1.],\n",
            "        [-1.,  0.,  0.]])\n",
            "tensor([[1., -0., 1.],\n",
            "        [1., 2., -0.],\n",
            "        [-0., 1., 1.]])\n"
          ]
        }
      ]
    },
    {
      "cell_type": "code",
      "source": [
        "print(torch.sin(torch.tensor(torch.pi/6)))  # type(torch.pi) <- float임 // 만약 tensor와 연산하면 tensor로 바꿔줌\n",
        "print(torch.cos(torch.tensor(torch.pi/3)))\n",
        "print(torch.tan(torch.tensor(torch.pi/4)))\n",
        "print(torch.tanh(torch.tensor(-10)))\n",
        "\n",
        "print(type(torch.pi))\n",
        "print(type(torch.pi/torch.tensor(3)))"
      ],
      "metadata": {
        "colab": {
          "base_uri": "https://localhost:8080/"
        },
        "id": "PFPjWX54qaXi",
        "outputId": "636e46dd-d4d8-4ac2-d8ec-1a7dcfc0003b"
      },
      "execution_count": null,
      "outputs": [
        {
          "output_type": "stream",
          "name": "stdout",
          "text": [
            "tensor(0.5000)\n",
            "tensor(0.5000)\n",
            "tensor(1.)\n",
            "tensor(-1.)\n",
            "<class 'float'>\n",
            "<class 'torch.Tensor'>\n"
          ]
        }
      ]
    },
    {
      "cell_type": "code",
      "source": [
        "torch.nan # not a number\n",
        "# print(torch.log(torch.tensor(-1)))\n",
        "print(torch.isnan(torch.tensor([1,2,torch.nan,3,4])))\n",
        "print(torch.isinf(torch.tensor([1,2,3,4,torch.inf])))"
      ],
      "metadata": {
        "colab": {
          "base_uri": "https://localhost:8080/"
        },
        "id": "huDfIsJoqdDa",
        "outputId": "87df3063-07ae-4c3b-e480-66a524468ea3"
      },
      "execution_count": null,
      "outputs": [
        {
          "output_type": "stream",
          "name": "stdout",
          "text": [
            "tensor([False, False,  True, False, False])\n",
            "tensor([False, False, False, False,  True])\n"
          ]
        }
      ]
    },
    {
      "cell_type": "code",
      "source": [
        "A=torch.randn(3,4)\n",
        "print(A)\n",
        "print(torch.max(A))\n",
        "print(torch.max(A,dim=0))\n",
        "print(torch.max(A,dim=1)) # 1D array로 바꿔버림\n",
        "print(torch.max(A,dim=0, keepdims=True))\n",
        "print(torch.max(A,dim=1, keepdims=True)) # 3 행 1열 짜리 2D array\n",
        "print(torch.min(A))\n",
        "print(torch.min(A,dim=0))\n",
        "print(torch.min(A,dim=1))\n",
        "print(torch.argmax(A))\n",
        "print(torch.argmax(A,dim=0)) # 각 열에서 가장 큰 애가 존재하는 인덱스\n",
        "print(torch.argmax(A,dim=1)) # 각 행에서 가장 큰 애가 존재하는 인덱스"
      ],
      "metadata": {
        "colab": {
          "base_uri": "https://localhost:8080/"
        },
        "id": "C9G0Rdhiqn3a",
        "outputId": "82abc814-a38e-4545-af25-da0bbba5d432"
      },
      "execution_count": null,
      "outputs": [
        {
          "output_type": "stream",
          "name": "stdout",
          "text": [
            "[[-0.60111745  0.65358943  0.33652573 -0.45064509]\n",
            " [ 0.56531042 -0.72526529 -0.81906752  0.34428911]\n",
            " [-1.63712718 -0.93759457 -0.23680838 -1.58124809]]\n",
            "0.6535894288117479\n",
            "[0.56531042 0.65358943 0.33652573 0.34428911]\n",
            "[ 0.65358943  0.56531042 -0.23680838]\n",
            "-1.6371271793873285\n",
            "[-1.63712718 -0.93759457 -0.81906752 -1.58124809]\n",
            "[-0.60111745 -0.81906752 -1.63712718]\n",
            "1\n",
            "[1 0 0 1]\n",
            "[1 0 2]\n"
          ]
        }
      ]
    },
    {
      "cell_type": "code",
      "source": [
        "a=torch.randn(6,1)\n",
        "print(a)\n",
        "a_sorted=torch.sort(a,dim=0)\n",
        "print(a_sorted)\n",
        "\n",
        "\n",
        "b=torch.randn(6,1)\n",
        "print(b)\n",
        "print(b.sort(dim=0))\n",
        "print(b.sort(dim=0, descending=True))"
      ],
      "metadata": {
        "colab": {
          "base_uri": "https://localhost:8080/"
        },
        "id": "5h8JeQ8bqsrv",
        "outputId": "85901be8-7429-4bca-914c-6a20874d0d55"
      },
      "execution_count": null,
      "outputs": [
        {
          "output_type": "stream",
          "name": "stdout",
          "text": [
            "tensor([[ 1.9819],\n",
            "        [-1.3071],\n",
            "        [-0.6386],\n",
            "        [-0.4000],\n",
            "        [ 0.7774],\n",
            "        [ 0.1576]])\n",
            "torch.return_types.sort(\n",
            "values=tensor([[-1.3071],\n",
            "        [-0.6386],\n",
            "        [-0.4000],\n",
            "        [ 0.1576],\n",
            "        [ 0.7774],\n",
            "        [ 1.9819]]),\n",
            "indices=tensor([[1],\n",
            "        [2],\n",
            "        [3],\n",
            "        [5],\n",
            "        [4],\n",
            "        [0]]))\n",
            "tensor([[ 0.8691],\n",
            "        [-2.3069],\n",
            "        [ 1.4729],\n",
            "        [ 0.7744],\n",
            "        [ 0.4057],\n",
            "        [ 0.2368]])\n",
            "torch.return_types.sort(\n",
            "values=tensor([[-2.3069],\n",
            "        [ 0.2368],\n",
            "        [ 0.4057],\n",
            "        [ 0.7744],\n",
            "        [ 0.8691],\n",
            "        [ 1.4729]]),\n",
            "indices=tensor([[1],\n",
            "        [5],\n",
            "        [4],\n",
            "        [3],\n",
            "        [0],\n",
            "        [2]]))\n",
            "torch.return_types.sort(\n",
            "values=tensor([[ 1.4729],\n",
            "        [ 0.8691],\n",
            "        [ 0.7744],\n",
            "        [ 0.4057],\n",
            "        [ 0.2368],\n",
            "        [-2.3069]]),\n",
            "indices=tensor([[2],\n",
            "        [0],\n",
            "        [3],\n",
            "        [4],\n",
            "        [5],\n",
            "        [1]]))\n"
          ]
        }
      ]
    },
    {
      "cell_type": "code",
      "source": [
        "A=torch.randn(3,4)\n",
        "print(A)\n",
        "print(torch.sum(A))\n",
        "print(torch.sum(A,dim=1))\n",
        "print(torch.sum(A,dim=1,keepdims=True))\n",
        "print(torch.mean(A))\n",
        "print(torch.mean(A,dim=1))\n",
        "print(torch.mean(A,dim=1,keepdims=True))\n",
        "print(torch.std(A)) # standard deviation 표준 편차\n",
        "\n",
        "print(A.sum(dim=1, keepdims=True))\n",
        "print(A.mean(dim=1, keepdims=True))\n",
        "print(A.std())"
      ],
      "metadata": {
        "colab": {
          "base_uri": "https://localhost:8080/"
        },
        "id": "KJUEZtB4rglS",
        "outputId": "428c77c8-9052-4a45-9de9-8e96b3fe2950"
      },
      "execution_count": null,
      "outputs": [
        {
          "output_type": "stream",
          "name": "stdout",
          "text": [
            "tensor([[-0.0865,  0.4328,  2.5942, -0.6277],\n",
            "        [-1.9208, -0.8419,  0.0972,  1.7679],\n",
            "        [-0.8560, -1.0487,  0.8628,  0.8854]])\n",
            "tensor(1.2586)\n",
            "tensor([ 2.3128, -0.8976, -0.1566])\n",
            "tensor([[ 2.3128],\n",
            "        [-0.8976],\n",
            "        [-0.1566]])\n",
            "tensor(0.1049)\n",
            "tensor([ 0.5782, -0.2244, -0.0391])\n",
            "tensor([[ 0.5782],\n",
            "        [-0.2244],\n",
            "        [-0.0391]])\n",
            "tensor(1.2821)\n",
            "tensor([[ 2.3128],\n",
            "        [-0.8976],\n",
            "        [-0.1566]])\n",
            "tensor([[ 0.5782],\n",
            "        [-0.2244],\n",
            "        [-0.0391]])\n",
            "tensor(1.2821)\n"
          ]
        }
      ]
    },
    {
      "cell_type": "code",
      "source": [
        "A=torch.randint(1,5,size=(12,)) # 1부터 5미만 12개 정수 (1 차원은 (N,) 과 같이 표현)\n",
        "print(A)\n",
        "print(A.shape)\n",
        "\n",
        "B=A.reshape(2,2,3)\n",
        "print(B)\n",
        "print(B.ndim) # 3 차원 행렬이다"
      ],
      "metadata": {
        "colab": {
          "base_uri": "https://localhost:8080/"
        },
        "id": "CmuensVlsERE",
        "outputId": "9d6122d1-9acb-40a5-ad6a-9c6ec18cf3e2"
      },
      "execution_count": null,
      "outputs": [
        {
          "output_type": "stream",
          "name": "stdout",
          "text": [
            "[3 4 1 1 4 2 4 4 4 1 1 3]\n",
            "(12,)\n",
            "[[[3 4 1]\n",
            "  [1 4 2]]\n",
            "\n",
            " [[4 4 4]\n",
            "  [1 1 3]]]\n",
            "3\n"
          ]
        }
      ]
    },
    {
      "cell_type": "code",
      "source": [
        "#벡터의 내적\n",
        "a=torch.tensor([1,2,3])\n",
        "b=torch.tensor([2,2,1])\n",
        "print(torch.sum(a*b))\n",
        "\n",
        "a=a.reshape(3,1)\n",
        "b=b.reshape(3,1)\n",
        "print(a.transpose(1,0)@b)\n",
        "#print(a.permute(1,0)@b) //3차원 이상일 때?\n",
        "#print(a.t()@b)\n",
        "print(a.T@b)\n",
        "\n",
        "A=torch.randn(4,3,6)\n",
        "print(A.permute(0,2,1).shape)"
      ],
      "metadata": {
        "colab": {
          "base_uri": "https://localhost:8080/"
        },
        "id": "VdXu_OZ1sgNK",
        "outputId": "7ad7b2d5-fd86-448d-88e4-a6729fcf887b"
      },
      "execution_count": null,
      "outputs": [
        {
          "output_type": "stream",
          "name": "stdout",
          "text": [
            "tensor(9)\n",
            "tensor([[9]])\n",
            "tensor([[9]])\n",
            "torch.Size([4, 6, 3])\n"
          ]
        }
      ]
    },
    {
      "cell_type": "code",
      "source": [
        "A=torch.arange(20)\n",
        "print(A)\n",
        "print(A.reshape(4,5))\n",
        "print(A.reshape(4,-1).shape) # 4개 행이 될 수 있도록 열의 수를 맞춰라\n",
        "print(A.reshape(2,5,-1).shape)\n",
        "print(A.reshape(2,-1,5).shape)\n",
        "print(A.reshape(1,-1).shape) # 2차원 행 벡터\n",
        "print(A.reshape(-1,1).shape) # 2차원 열 벡터"
      ],
      "metadata": {
        "colab": {
          "base_uri": "https://localhost:8080/"
        },
        "id": "aYsTsVD7sjmj",
        "outputId": "10959a39-f768-4108-b7bd-6c02aebf4904"
      },
      "execution_count": null,
      "outputs": [
        {
          "output_type": "stream",
          "name": "stdout",
          "text": [
            "tensor([ 0,  1,  2,  3,  4,  5,  6,  7,  8,  9, 10, 11, 12, 13, 14, 15, 16, 17,\n",
            "        18, 19])\n",
            "tensor([[ 0,  1,  2,  3,  4],\n",
            "        [ 5,  6,  7,  8,  9],\n",
            "        [10, 11, 12, 13, 14],\n",
            "        [15, 16, 17, 18, 19]])\n",
            "torch.Size([4, 5])\n",
            "torch.Size([2, 5, 2])\n",
            "torch.Size([2, 2, 5])\n",
            "torch.Size([1, 20])\n",
            "torch.Size([20, 1])\n"
          ]
        }
      ]
    },
    {
      "cell_type": "code",
      "source": [
        "# : 을 ...으로\n",
        "x=torch.randn(2,3,4,5,6)\n",
        "print(x[1,2,:,:,:].shape)\n",
        "print(x[1,2,...].shape) # x[1, 2, …] 는 x[1, 2, :, :, :] 와 같습니다.\n",
        "print(x[:,:,:,:,3].shape)\n",
        "print(x[...,3].shape) # x[…, 3] 는 x[:, :, :, :, 3] 와 같습니다.\n",
        "print(x[1,:,:,3,:].shape)\n",
        "print(x[1,...,3,:].shape) # x[1, …, 3, :] 는 x[1, :, :, 3, :] 와 같습니다."
      ],
      "metadata": {
        "colab": {
          "base_uri": "https://localhost:8080/"
        },
        "id": "VFBBHxp2zFyr",
        "outputId": "8271a8ec-a7e1-45a8-aa8d-614a7a100343"
      },
      "execution_count": null,
      "outputs": [
        {
          "output_type": "stream",
          "name": "stdout",
          "text": [
            "torch.Size([4, 5, 6])\n",
            "torch.Size([4, 5, 6])\n",
            "torch.Size([2, 3, 4, 5])\n",
            "torch.Size([2, 3, 4, 5])\n",
            "torch.Size([3, 4, 6])\n",
            "torch.Size([3, 4, 6])\n"
          ]
        }
      ]
    },
    {
      "cell_type": "code",
      "source": [
        "A=torch.ones((3,4))\n",
        "B=torch.zeros((3,4))\n",
        "C=torch.vstack([A,B])\n",
        "D=torch.hstack([A,B])\n",
        "#E=torch.block([[A],[B]])\n",
        "#F=torch.block([A,B])\n",
        "#G=torch.block([ [[A]], [[B]] ])\n",
        "\n",
        "print(C)\n",
        "print(D)\n",
        "print(E)\n",
        "print(F)\n",
        "print(G)"
      ],
      "metadata": {
        "colab": {
          "base_uri": "https://localhost:8080/"
        },
        "id": "VsBKRAiJzbBz",
        "outputId": "9490b228-1fdc-48b1-dc62-1da6003c91e0"
      },
      "execution_count": null,
      "outputs": [
        {
          "output_type": "stream",
          "name": "stdout",
          "text": [
            "tensor([[1., 1., 1., 1.],\n",
            "        [1., 1., 1., 1.],\n",
            "        [1., 1., 1., 1.],\n",
            "        [0., 0., 0., 0.],\n",
            "        [0., 0., 0., 0.],\n",
            "        [0., 0., 0., 0.]])\n",
            "tensor([[1., 1., 1., 1., 0., 0., 0., 0.],\n",
            "        [1., 1., 1., 1., 0., 0., 0., 0.],\n",
            "        [1., 1., 1., 1., 0., 0., 0., 0.]])\n",
            "tensor([[[1., 1., 1., 1.],\n",
            "         [1., 1., 1., 1.],\n",
            "         [1., 1., 1., 1.]],\n",
            "\n",
            "        [[1., 1., 1., 1.],\n",
            "         [1., 1., 1., 1.],\n",
            "         [1., 1., 1., 1.]],\n",
            "\n",
            "        [[0., 0., 0., 0.],\n",
            "         [0., 0., 0., 0.],\n",
            "         [0., 0., 0., 0.]],\n",
            "\n",
            "        [[0., 0., 0., 0.],\n",
            "         [0., 0., 0., 0.],\n",
            "         [0., 0., 0., 0.]]])\n",
            "tensor([[[1., 1., 1., 1.],\n",
            "         [1., 1., 1., 1.],\n",
            "         [1., 1., 1., 1.],\n",
            "         [0., 0., 0., 0.],\n",
            "         [0., 0., 0., 0.],\n",
            "         [0., 0., 0., 0.]],\n",
            "\n",
            "        [[1., 1., 1., 1.],\n",
            "         [1., 1., 1., 1.],\n",
            "         [1., 1., 1., 1.],\n",
            "         [0., 0., 0., 0.],\n",
            "         [0., 0., 0., 0.],\n",
            "         [0., 0., 0., 0.]]])\n",
            "tensor([[[1., 1., 1., 1., 0., 0., 0., 0.],\n",
            "         [1., 1., 1., 1., 0., 0., 0., 0.],\n",
            "         [1., 1., 1., 1., 0., 0., 0., 0.]],\n",
            "\n",
            "        [[1., 1., 1., 1., 0., 0., 0., 0.],\n",
            "         [1., 1., 1., 1., 0., 0., 0., 0.],\n",
            "         [1., 1., 1., 1., 0., 0., 0., 0.]]])\n"
          ]
        }
      ]
    },
    {
      "cell_type": "code",
      "source": [
        "A = torch.ones((2,3,4))\n",
        "B = torch.zeros((2,3,4))\n",
        "\n",
        "C = torch.vstack([A,B])\n",
        "D = torch.hstack([A,B])\n",
        "\n",
        "E = torch.cat([A,B], dim = 0)\n",
        "F = torch.cat([A,B], dim = 1)\n",
        "G = torch.cat([A,B], dim = 2)\n",
        "\n",
        "print(C)\n",
        "print(D)\n",
        "print(E)\n",
        "print(F)\n",
        "print(G)"
      ],
      "metadata": {
        "colab": {
          "base_uri": "https://localhost:8080/"
        },
        "id": "4QR6uBh4LlNY",
        "outputId": "648cc656-31ca-4204-91e4-65df8f9e5b6e"
      },
      "execution_count": null,
      "outputs": [
        {
          "output_type": "stream",
          "name": "stdout",
          "text": [
            "tensor([[[1., 1., 1., 1.],\n",
            "         [1., 1., 1., 1.],\n",
            "         [1., 1., 1., 1.]],\n",
            "\n",
            "        [[1., 1., 1., 1.],\n",
            "         [1., 1., 1., 1.],\n",
            "         [1., 1., 1., 1.]],\n",
            "\n",
            "        [[0., 0., 0., 0.],\n",
            "         [0., 0., 0., 0.],\n",
            "         [0., 0., 0., 0.]],\n",
            "\n",
            "        [[0., 0., 0., 0.],\n",
            "         [0., 0., 0., 0.],\n",
            "         [0., 0., 0., 0.]]])\n",
            "tensor([[[1., 1., 1., 1.],\n",
            "         [1., 1., 1., 1.],\n",
            "         [1., 1., 1., 1.],\n",
            "         [0., 0., 0., 0.],\n",
            "         [0., 0., 0., 0.],\n",
            "         [0., 0., 0., 0.]],\n",
            "\n",
            "        [[1., 1., 1., 1.],\n",
            "         [1., 1., 1., 1.],\n",
            "         [1., 1., 1., 1.],\n",
            "         [0., 0., 0., 0.],\n",
            "         [0., 0., 0., 0.],\n",
            "         [0., 0., 0., 0.]]])\n",
            "tensor([[[1., 1., 1., 1.],\n",
            "         [1., 1., 1., 1.],\n",
            "         [1., 1., 1., 1.]],\n",
            "\n",
            "        [[1., 1., 1., 1.],\n",
            "         [1., 1., 1., 1.],\n",
            "         [1., 1., 1., 1.]],\n",
            "\n",
            "        [[0., 0., 0., 0.],\n",
            "         [0., 0., 0., 0.],\n",
            "         [0., 0., 0., 0.]],\n",
            "\n",
            "        [[0., 0., 0., 0.],\n",
            "         [0., 0., 0., 0.],\n",
            "         [0., 0., 0., 0.]]])\n",
            "tensor([[[1., 1., 1., 1.],\n",
            "         [1., 1., 1., 1.],\n",
            "         [1., 1., 1., 1.],\n",
            "         [0., 0., 0., 0.],\n",
            "         [0., 0., 0., 0.],\n",
            "         [0., 0., 0., 0.]],\n",
            "\n",
            "        [[1., 1., 1., 1.],\n",
            "         [1., 1., 1., 1.],\n",
            "         [1., 1., 1., 1.],\n",
            "         [0., 0., 0., 0.],\n",
            "         [0., 0., 0., 0.],\n",
            "         [0., 0., 0., 0.]]])\n",
            "tensor([[[1., 1., 1., 1., 0., 0., 0., 0.],\n",
            "         [1., 1., 1., 1., 0., 0., 0., 0.],\n",
            "         [1., 1., 1., 1., 0., 0., 0., 0.]],\n",
            "\n",
            "        [[1., 1., 1., 1., 0., 0., 0., 0.],\n",
            "         [1., 1., 1., 1., 0., 0., 0., 0.],\n",
            "         [1., 1., 1., 1., 0., 0., 0., 0.]]])\n"
          ]
        }
      ]
    },
    {
      "cell_type": "code",
      "source": [
        "A = torch.randn(1,1,1,3,1,1,4,1)\n",
        "# print(A)\n",
        "print(A.shape)\n",
        "print(A.squeeze().shape)"
      ],
      "metadata": {
        "colab": {
          "base_uri": "https://localhost:8080/"
        },
        "id": "EOsKnQTvzeAL",
        "outputId": "b9d5a7f0-acdf-4e5d-e722-4ce945aa727d"
      },
      "execution_count": null,
      "outputs": [
        {
          "output_type": "stream",
          "name": "stdout",
          "text": [
            "torch.Size([1, 1, 1, 3, 1, 1, 4, 1])\n",
            "torch.Size([3, 4])\n",
            "torch.Size([1, 3, 4, 1])\n"
          ]
        }
      ]
    },
    {
      "cell_type": "code",
      "source": [
        "A = torch.randn(3,4)\n",
        "print(A.unsqueeze(dim=0).shape)\n",
        "print(A.unsqueeze(dim=1).shape)\n",
        "print(A.unsqueeze(dim=2).shape)\n",
        "\n",
        "print(A.reshape(1,3,4).shape)\n",
        "print(A.reshape(3,1,4).shape)\n",
        "print(A.reshape(3,4,1).shape)"
      ],
      "metadata": {
        "colab": {
          "base_uri": "https://localhost:8080/"
        },
        "id": "fgFgG48p02YK",
        "outputId": "672e5189-4bad-46cf-9788-90af506ef0a9"
      },
      "execution_count": null,
      "outputs": [
        {
          "output_type": "stream",
          "name": "stdout",
          "text": [
            "torch.Size([1, 3, 4])\n",
            "torch.Size([3, 1, 4])\n",
            "torch.Size([3, 4, 1])\n",
            "torch.Size([1, 3, 4])\n",
            "torch.Size([3, 1, 4])\n",
            "torch.Size([3, 4, 1])\n"
          ]
        }
      ]
    },
    {
      "cell_type": "code",
      "source": [
        "A = torch.ones(3,4)\n",
        "B = torch.zeros(3,4)\n",
        "A = A.unsqueeze(dim=0)\n",
        "B = B.unsqueeze(dim=0)\n",
        "C = torch.cat([A,B], dim=0)\n",
        "print(C)\n",
        "print(C.shape)"
      ],
      "metadata": {
        "colab": {
          "base_uri": "https://localhost:8080/"
        },
        "id": "61SpJ_92OkYv",
        "outputId": "10acf698-aaf6-4895-d082-d256617c7e14"
      },
      "execution_count": null,
      "outputs": [
        {
          "output_type": "stream",
          "name": "stdout",
          "text": [
            "tensor([[[1., 1., 1., 1.],\n",
            "         [1., 1., 1., 1.],\n",
            "         [1., 1., 1., 1.]],\n",
            "\n",
            "        [[0., 0., 0., 0.],\n",
            "         [0., 0., 0., 0.],\n",
            "         [0., 0., 0., 0.]]])\n",
            "torch.Size([2, 3, 4])\n"
          ]
        }
      ]
    },
    {
      "cell_type": "code",
      "source": [
        "A = torch.tensor([[1,2],[3,4]])\n",
        "B = A.clone()\n",
        "B[0,0]=100\n",
        "\n",
        "print(B)\n",
        "print(A)"
      ],
      "metadata": {
        "colab": {
          "base_uri": "https://localhost:8080/"
        },
        "id": "Gm_7bggCO1T9",
        "outputId": "7c55e712-fe7f-4963-9e64-c226dec30541"
      },
      "execution_count": null,
      "outputs": [
        {
          "output_type": "stream",
          "name": "stdout",
          "text": [
            "tensor([[100,   2],\n",
            "        [  3,   4]])\n",
            "tensor([[1, 2],\n",
            "        [3, 4]])\n"
          ]
        }
      ]
    },
    {
      "cell_type": "markdown",
      "source": [
        "## @에 대해서"
      ],
      "metadata": {
        "id": "eDxgIuBHqlhp"
      }
    },
    {
      "cell_type": "code",
      "source": [
        "A = torch.randn(5,7)\n",
        "B = torch.randn(7,10)\n",
        "C = A @ B\n",
        "print(C.shape)"
      ],
      "metadata": {
        "id": "Q8a1sbDvPAT7",
        "colab": {
          "base_uri": "https://localhost:8080/"
        },
        "outputId": "9bb80e6f-02e6-4564-e8b9-e98f301b3599"
      },
      "execution_count": 2,
      "outputs": [
        {
          "output_type": "stream",
          "name": "stdout",
          "text": [
            "torch.Size([5, 10])\n"
          ]
        }
      ]
    },
    {
      "cell_type": "code",
      "source": [
        "A = torch.randn(32,5,7)\n",
        "B = torch.randn(32,7,10)\n",
        "C = A @ B\n",
        "print(C.shape)"
      ],
      "metadata": {
        "colab": {
          "base_uri": "https://localhost:8080/"
        },
        "id": "dnh3gReiqzCr",
        "outputId": "c70594ae-dcbf-4e45-b1db-ab5973dd1dbc"
      },
      "execution_count": 3,
      "outputs": [
        {
          "output_type": "stream",
          "name": "stdout",
          "text": [
            "torch.Size([32, 5, 10])\n"
          ]
        }
      ]
    },
    {
      "cell_type": "code",
      "source": [
        "A = torch.randn(32,5,7)\n",
        "B = torch.randn(7,10)\n",
        "\n",
        "C = A@B.repeat(32,1,1)\n",
        "D = A @ B\n",
        "\n",
        "print(C.shape)\n",
        "print(D.shape)"
      ],
      "metadata": {
        "colab": {
          "base_uri": "https://localhost:8080/"
        },
        "id": "gK5d_YSaq9jV",
        "outputId": "48cf126a-c1a8-4955-dde0-71e0c96aec9a"
      },
      "execution_count": 23,
      "outputs": [
        {
          "output_type": "stream",
          "name": "stdout",
          "text": [
            "torch.Size([2, 1, 21, 40])\n"
          ]
        }
      ]
    },
    {
      "cell_type": "code",
      "source": [
        "A = torch.randn(2,3)\n",
        "A_repeat = A.repeat(3,1,3,2)\n",
        "print(A)\n",
        "print(A_repeat)\n",
        "print(A_repeat.shape)"
      ],
      "metadata": {
        "colab": {
          "base_uri": "https://localhost:8080/"
        },
        "id": "3-spEQYGrRtC",
        "outputId": "ee284dd0-f0fd-4c65-812d-ad4850800d05"
      },
      "execution_count": 21,
      "outputs": [
        {
          "output_type": "stream",
          "name": "stdout",
          "text": [
            "tensor([[ 1.5181,  0.6358,  1.9283],\n",
            "        [ 0.1941, -0.5659,  0.4527]])\n",
            "tensor([[[[ 1.5181,  0.6358,  1.9283,  1.5181,  0.6358,  1.9283],\n",
            "          [ 0.1941, -0.5659,  0.4527,  0.1941, -0.5659,  0.4527],\n",
            "          [ 1.5181,  0.6358,  1.9283,  1.5181,  0.6358,  1.9283],\n",
            "          [ 0.1941, -0.5659,  0.4527,  0.1941, -0.5659,  0.4527],\n",
            "          [ 1.5181,  0.6358,  1.9283,  1.5181,  0.6358,  1.9283],\n",
            "          [ 0.1941, -0.5659,  0.4527,  0.1941, -0.5659,  0.4527]]],\n",
            "\n",
            "\n",
            "        [[[ 1.5181,  0.6358,  1.9283,  1.5181,  0.6358,  1.9283],\n",
            "          [ 0.1941, -0.5659,  0.4527,  0.1941, -0.5659,  0.4527],\n",
            "          [ 1.5181,  0.6358,  1.9283,  1.5181,  0.6358,  1.9283],\n",
            "          [ 0.1941, -0.5659,  0.4527,  0.1941, -0.5659,  0.4527],\n",
            "          [ 1.5181,  0.6358,  1.9283,  1.5181,  0.6358,  1.9283],\n",
            "          [ 0.1941, -0.5659,  0.4527,  0.1941, -0.5659,  0.4527]]],\n",
            "\n",
            "\n",
            "        [[[ 1.5181,  0.6358,  1.9283,  1.5181,  0.6358,  1.9283],\n",
            "          [ 0.1941, -0.5659,  0.4527,  0.1941, -0.5659,  0.4527],\n",
            "          [ 1.5181,  0.6358,  1.9283,  1.5181,  0.6358,  1.9283],\n",
            "          [ 0.1941, -0.5659,  0.4527,  0.1941, -0.5659,  0.4527],\n",
            "          [ 1.5181,  0.6358,  1.9283,  1.5181,  0.6358,  1.9283],\n",
            "          [ 0.1941, -0.5659,  0.4527,  0.1941, -0.5659,  0.4527]]]])\n",
            "torch.Size([3, 1, 6, 6])\n"
          ]
        }
      ]
    },
    {
      "cell_type": "markdown",
      "source": [
        "## numpy <=> torch"
      ],
      "metadata": {
        "id": "35XsbvgBtPoG"
      }
    },
    {
      "cell_type": "code",
      "source": [
        "import numpy as np\n",
        "import torch\n",
        "\n",
        "a = np.array([1,2,3])\n",
        "b = torch.tensor([1,2,3])\n",
        "A = torch.tensor(a) #A = torch.from_numpy(a)\n",
        "B = b.numpy() #B = np.array(b)\n",
        "print(type(A))\n",
        "print(type(B))"
      ],
      "metadata": {
        "colab": {
          "base_uri": "https://localhost:8080/"
        },
        "id": "NlwZv32-sqnn",
        "outputId": "6f8f64df-ac66-42cc-8f9c-90fb5ff69709"
      },
      "execution_count": 31,
      "outputs": [
        {
          "output_type": "stream",
          "name": "stdout",
          "text": [
            "<class 'torch.Tensor'>\n",
            "<class 'numpy.ndarray'>\n"
          ]
        }
      ]
    },
    {
      "cell_type": "markdown",
      "source": [
        "## 딥러닝을 가능하게 한 autograd\n"
      ],
      "metadata": {
        "id": "BebXCRSMtx5B"
      }
    },
    {
      "cell_type": "code",
      "source": [
        "x = torch.tensor([1.], requires_grad=True) # 정수는 미분이 안됨. 실수형으로 선언해야함.\n",
        "print(x)\n",
        "print(x.requires_grad)\n",
        "\n",
        "x.requires_grad = False\n",
        "print(x)\n",
        "print(x.requires_grad)"
      ],
      "metadata": {
        "colab": {
          "base_uri": "https://localhost:8080/"
        },
        "id": "N08Aq72stdTN",
        "outputId": "43f626a0-773c-4fde-f428-dcc5eff9ea73"
      },
      "execution_count": 35,
      "outputs": [
        {
          "output_type": "stream",
          "name": "stdout",
          "text": [
            "tensor([1.], requires_grad=True)\n",
            "True\n",
            "tensor([1.])\n",
            "False\n"
          ]
        }
      ]
    },
    {
      "cell_type": "code",
      "source": [
        "x = torch.tensor([1.], requires_grad=True)\n",
        "y = x**2\n",
        "print(y)\n",
        "#<PowerBackward0>\n",
        "print(x.grad)\n",
        "y.backward() #미분\n",
        "print(x.grad) #y=x**2을 미분한 2x의 x값에 1을 대입한 gradient 값"
      ],
      "metadata": {
        "colab": {
          "base_uri": "https://localhost:8080/"
        },
        "id": "imwgV8CTuAnv",
        "outputId": "40723fb2-28d5-460a-8f5d-e4451ec6aa57"
      },
      "execution_count": 38,
      "outputs": [
        {
          "output_type": "stream",
          "name": "stdout",
          "text": [
            "tensor([1.], grad_fn=<PowBackward0>)\n",
            "None\n",
            "tensor([2.])\n"
          ]
        }
      ]
    },
    {
      "cell_type": "code",
      "source": [
        "x = torch.tensor([1.], requires_grad = True)\n",
        "y = x**2\n",
        "print(y)\n",
        "#y.retain_grad() # y.grad 볼 수 있음\n",
        "\n",
        "z = 3*y\n",
        "print(z) #MulBackward0가 붙어있음\n",
        "\n",
        "z.backward()\n",
        "print(x.grad) #chain rule로 알아냄\n",
        "print(y.grad) #warning 중간건 원래 알 수 없음 -> retain_grad()사용"
      ],
      "metadata": {
        "colab": {
          "base_uri": "https://localhost:8080/"
        },
        "id": "-sNbsliauYiM",
        "outputId": "d3489ef7-716a-4562-e51c-7832141b6f7e"
      },
      "execution_count": 45,
      "outputs": [
        {
          "output_type": "stream",
          "name": "stdout",
          "text": [
            "tensor([1.], grad_fn=<PowBackward0>)\n",
            "tensor([3.], grad_fn=<MulBackward0>)\n",
            "tensor([6.])\n",
            "tensor([3.])\n"
          ]
        }
      ]
    },
    {
      "cell_type": "code",
      "source": [
        "x = torch.tensor([1.], requires_grad = True)\n",
        "y = x**2\n",
        "z = 3*y\n",
        "\n",
        "y.backward() # y에서부터 뒤로 넘어감\n",
        "print(x.grad)"
      ],
      "metadata": {
        "colab": {
          "base_uri": "https://localhost:8080/"
        },
        "id": "AMGf0V_IvoAW",
        "outputId": "18826f6a-a646-4cc5-ba65-0724353bc3cd"
      },
      "execution_count": 46,
      "outputs": [
        {
          "output_type": "stream",
          "name": "stdout",
          "text": [
            "tensor([2.])\n"
          ]
        }
      ]
    },
    {
      "cell_type": "code",
      "source": [
        "x = torch.tensor([1.], requires_grad = True)\n",
        "a = x**2\n",
        "b = a + 1\n",
        "print(b) #AddBackward0가 붙어있음\n",
        "c = b**2\n",
        "c.backward()\n",
        "print(x.grad)"
      ],
      "metadata": {
        "colab": {
          "base_uri": "https://localhost:8080/"
        },
        "id": "hcsudczvxZWm",
        "outputId": "14235189-daec-44e1-f939-9a1d49314814"
      },
      "execution_count": 49,
      "outputs": [
        {
          "output_type": "stream",
          "name": "stdout",
          "text": [
            "tensor([2.], grad_fn=<AddBackward0>)\n",
            "tensor([8.])\n"
          ]
        }
      ]
    },
    {
      "cell_type": "code",
      "source": [
        "x = torch.tensor([1.],requires_grad=True)\n",
        "y = torch.tensor([1.],requires_grad=True)\n",
        "# x, y 2개의 리프 텐서\n",
        "z = 2*x**2 + y**2\n",
        "print(z)\n",
        "z.backward()\n",
        "print(x.grad)\n",
        "print(y.grad)"
      ],
      "metadata": {
        "colab": {
          "base_uri": "https://localhost:8080/"
        },
        "id": "ZwVFnw-Qxix1",
        "outputId": "1ba45263-17a1-47e0-a6d5-8d025256dbe7"
      },
      "execution_count": 51,
      "outputs": [
        {
          "output_type": "stream",
          "name": "stdout",
          "text": [
            "tensor([3.], grad_fn=<AddBackward0>)\n",
            "tensor([4.])\n",
            "tensor([2.])\n"
          ]
        }
      ]
    },
    {
      "cell_type": "code",
      "source": [
        "x = torch.tensor([1., 2., 3.],requires_grad=True)\n",
        "y = torch.sum(x**2) # x1**2 + x2**2 + x3**2\n",
        "y.backward()\n",
        "\n",
        "print(y)\n",
        "print(x.grad) #스칼라를 벡터로 미분"
      ],
      "metadata": {
        "colab": {
          "base_uri": "https://localhost:8080/"
        },
        "id": "unJPEMyeyhhT",
        "outputId": "c2cd4b25-dd0d-4281-ef8d-bee2a34f63db"
      },
      "execution_count": 53,
      "outputs": [
        {
          "output_type": "stream",
          "name": "stdout",
          "text": [
            "tensor(14., grad_fn=<SumBackward0>)\n",
            "tensor([2., 4., 6.])\n"
          ]
        }
      ]
    },
    {
      "cell_type": "code",
      "source": [
        "x = torch.tensor([1.],requires_grad=True)\n",
        "x.requires_grad=False # transfer learning(전이학습)에 필요 // x = x.detach()도 동일\n",
        "\n",
        "y=x**2\n",
        "print(y)\n",
        "#y.backward() #error!"
      ],
      "metadata": {
        "colab": {
          "base_uri": "https://localhost:8080/"
        },
        "id": "iEPYlRtCzAdA",
        "outputId": "81812d16-0916-4e89-cd47-a5b9b272a67d"
      },
      "execution_count": 54,
      "outputs": [
        {
          "output_type": "stream",
          "name": "stdout",
          "text": [
            "tensor([1.])\n"
          ]
        }
      ]
    },
    {
      "cell_type": "markdown",
      "source": [
        "## detach와 torch.no_grad"
      ],
      "metadata": {
        "id": "ODOXP86k0cSm"
      }
    },
    {
      "cell_type": "code",
      "source": [
        "x = torch.tensor([1.],requires_grad=True)\n",
        "\n",
        "#chian rule을 위해 계속 grad_fn을 update하니까 grad_fn을 잠시 계산하지 않고 싶을때 torch.no_grad 사용\n",
        "#model test시에는 불필요하게 메모리를 쓸 필요가 없기 때문\n",
        "with torch.no_grad():\n",
        "  y = x*82\n",
        "  print(x.requires_grad)\n",
        "  print(y)\n",
        "print(x.requires_grad)\n",
        "# y.backward() # error!\n",
        "y=x**2\n",
        "print(y)\n",
        "\n",
        "\n",
        "x = torch.tensor([1.], requires_grad=True)\n",
        "x=x.detach()\n",
        "y = x**2\n",
        "print(x.requires_grad)\n",
        "print(y)\n",
        "# y.backward() #error!"
      ],
      "metadata": {
        "colab": {
          "base_uri": "https://localhost:8080/"
        },
        "id": "bx9McZjs0aEa",
        "outputId": "b57dd8c7-1b82-4b3b-db54-7b92ab6cdf50"
      },
      "execution_count": 58,
      "outputs": [
        {
          "output_type": "stream",
          "name": "stdout",
          "text": [
            "True\n",
            "tensor([82.])\n",
            "True\n",
            "tensor([1.], grad_fn=<PowBackward0>)\n",
            "False\n",
            "tensor([1.])\n"
          ]
        }
      ]
    },
    {
      "cell_type": "code",
      "source": [
        "!pip install torchviz\n",
        "from torchviz import make_dot\n",
        "x = torch.tensor([1., 2.],requires_grad=True)\n",
        "# make_dot(x)\n",
        "# make_dot(x**2)\n",
        "# make_dot(x**2+1)\n",
        "make_dot((x**2+1)**2)\n",
        "\n",
        "y=torch.sum((x**2+1)**2)\n",
        "y.backward()\n",
        "make_dot(y)"
      ],
      "metadata": {
        "colab": {
          "base_uri": "https://localhost:8080/",
          "height": 749
        },
        "id": "qz8KInmP0Z-j",
        "outputId": "04226513-0880-488e-fbd5-032d0fa3ae28"
      },
      "execution_count": 66,
      "outputs": [
        {
          "output_type": "stream",
          "name": "stdout",
          "text": [
            "Requirement already satisfied: torchviz in /usr/local/lib/python3.10/dist-packages (0.0.2)\n",
            "Requirement already satisfied: torch in /usr/local/lib/python3.10/dist-packages (from torchviz) (2.1.0+cu121)\n",
            "Requirement already satisfied: graphviz in /usr/local/lib/python3.10/dist-packages (from torchviz) (0.20.1)\n",
            "Requirement already satisfied: filelock in /usr/local/lib/python3.10/dist-packages (from torch->torchviz) (3.13.1)\n",
            "Requirement already satisfied: typing-extensions in /usr/local/lib/python3.10/dist-packages (from torch->torchviz) (4.5.0)\n",
            "Requirement already satisfied: sympy in /usr/local/lib/python3.10/dist-packages (from torch->torchviz) (1.12)\n",
            "Requirement already satisfied: networkx in /usr/local/lib/python3.10/dist-packages (from torch->torchviz) (3.2.1)\n",
            "Requirement already satisfied: jinja2 in /usr/local/lib/python3.10/dist-packages (from torch->torchviz) (3.1.3)\n",
            "Requirement already satisfied: fsspec in /usr/local/lib/python3.10/dist-packages (from torch->torchviz) (2023.6.0)\n",
            "Requirement already satisfied: triton==2.1.0 in /usr/local/lib/python3.10/dist-packages (from torch->torchviz) (2.1.0)\n",
            "Requirement already satisfied: MarkupSafe>=2.0 in /usr/local/lib/python3.10/dist-packages (from jinja2->torch->torchviz) (2.1.3)\n",
            "Requirement already satisfied: mpmath>=0.19 in /usr/local/lib/python3.10/dist-packages (from sympy->torch->torchviz) (1.3.0)\n"
          ]
        },
        {
          "output_type": "execute_result",
          "data": {
            "image/svg+xml": "<?xml version=\"1.0\" encoding=\"UTF-8\" standalone=\"no\"?>\n<!DOCTYPE svg PUBLIC \"-//W3C//DTD SVG 1.1//EN\"\n \"http://www.w3.org/Graphics/SVG/1.1/DTD/svg11.dtd\">\n<!-- Generated by graphviz version 2.43.0 (0)\n -->\n<!-- Title: %3 Pages: 1 -->\n<svg width=\"109pt\" height=\"381pt\"\n viewBox=\"0.00 0.00 109.00 381.00\" xmlns=\"http://www.w3.org/2000/svg\" xmlns:xlink=\"http://www.w3.org/1999/xlink\">\n<g id=\"graph0\" class=\"graph\" transform=\"scale(1 1) rotate(0) translate(4 377)\">\n<title>%3</title>\n<polygon fill=\"white\" stroke=\"transparent\" points=\"-4,4 -4,-377 105,-377 105,4 -4,4\"/>\n<!-- 133096540493424 -->\n<g id=\"node1\" class=\"node\">\n<title>133096540493424</title>\n<polygon fill=\"#caff70\" stroke=\"black\" points=\"77.5,-31 23.5,-31 23.5,0 77.5,0 77.5,-31\"/>\n<text text-anchor=\"middle\" x=\"50.5\" y=\"-7\" font-family=\"monospace\" font-size=\"10.00\"> ()</text>\n</g>\n<!-- 133096540320576 -->\n<g id=\"node2\" class=\"node\">\n<title>133096540320576</title>\n<polygon fill=\"lightgrey\" stroke=\"black\" points=\"95,-86 6,-86 6,-67 95,-67 95,-86\"/>\n<text text-anchor=\"middle\" x=\"50.5\" y=\"-74\" font-family=\"monospace\" font-size=\"10.00\">SumBackward0</text>\n</g>\n<!-- 133096540320576&#45;&gt;133096540493424 -->\n<g id=\"edge6\" class=\"edge\">\n<title>133096540320576&#45;&gt;133096540493424</title>\n<path fill=\"none\" stroke=\"black\" d=\"M50.5,-66.79C50.5,-60.07 50.5,-50.4 50.5,-41.34\"/>\n<polygon fill=\"black\" stroke=\"black\" points=\"54,-41.19 50.5,-31.19 47,-41.19 54,-41.19\"/>\n</g>\n<!-- 133096540321776 -->\n<g id=\"node3\" class=\"node\">\n<title>133096540321776</title>\n<polygon fill=\"lightgrey\" stroke=\"black\" points=\"95,-141 6,-141 6,-122 95,-122 95,-141\"/>\n<text text-anchor=\"middle\" x=\"50.5\" y=\"-129\" font-family=\"monospace\" font-size=\"10.00\">PowBackward0</text>\n</g>\n<!-- 133096540321776&#45;&gt;133096540320576 -->\n<g id=\"edge1\" class=\"edge\">\n<title>133096540321776&#45;&gt;133096540320576</title>\n<path fill=\"none\" stroke=\"black\" d=\"M50.5,-121.75C50.5,-114.8 50.5,-104.85 50.5,-96.13\"/>\n<polygon fill=\"black\" stroke=\"black\" points=\"54,-96.09 50.5,-86.09 47,-96.09 54,-96.09\"/>\n</g>\n<!-- 133096540321968 -->\n<g id=\"node4\" class=\"node\">\n<title>133096540321968</title>\n<polygon fill=\"lightgrey\" stroke=\"black\" points=\"95,-196 6,-196 6,-177 95,-177 95,-196\"/>\n<text text-anchor=\"middle\" x=\"50.5\" y=\"-184\" font-family=\"monospace\" font-size=\"10.00\">AddBackward0</text>\n</g>\n<!-- 133096540321968&#45;&gt;133096540321776 -->\n<g id=\"edge2\" class=\"edge\">\n<title>133096540321968&#45;&gt;133096540321776</title>\n<path fill=\"none\" stroke=\"black\" d=\"M50.5,-176.75C50.5,-169.8 50.5,-159.85 50.5,-151.13\"/>\n<polygon fill=\"black\" stroke=\"black\" points=\"54,-151.09 50.5,-141.09 47,-151.09 54,-151.09\"/>\n</g>\n<!-- 133096540320624 -->\n<g id=\"node5\" class=\"node\">\n<title>133096540320624</title>\n<polygon fill=\"lightgrey\" stroke=\"black\" points=\"95,-251 6,-251 6,-232 95,-232 95,-251\"/>\n<text text-anchor=\"middle\" x=\"50.5\" y=\"-239\" font-family=\"monospace\" font-size=\"10.00\">PowBackward0</text>\n</g>\n<!-- 133096540320624&#45;&gt;133096540321968 -->\n<g id=\"edge3\" class=\"edge\">\n<title>133096540320624&#45;&gt;133096540321968</title>\n<path fill=\"none\" stroke=\"black\" d=\"M50.5,-231.75C50.5,-224.8 50.5,-214.85 50.5,-206.13\"/>\n<polygon fill=\"black\" stroke=\"black\" points=\"54,-206.09 50.5,-196.09 47,-206.09 54,-206.09\"/>\n</g>\n<!-- 133096540322544 -->\n<g id=\"node6\" class=\"node\">\n<title>133096540322544</title>\n<polygon fill=\"lightgrey\" stroke=\"black\" points=\"101,-306 0,-306 0,-287 101,-287 101,-306\"/>\n<text text-anchor=\"middle\" x=\"50.5\" y=\"-294\" font-family=\"monospace\" font-size=\"10.00\">AccumulateGrad</text>\n</g>\n<!-- 133096540322544&#45;&gt;133096540320624 -->\n<g id=\"edge4\" class=\"edge\">\n<title>133096540322544&#45;&gt;133096540320624</title>\n<path fill=\"none\" stroke=\"black\" d=\"M50.5,-286.75C50.5,-279.8 50.5,-269.85 50.5,-261.13\"/>\n<polygon fill=\"black\" stroke=\"black\" points=\"54,-261.09 50.5,-251.09 47,-261.09 54,-261.09\"/>\n</g>\n<!-- 133098970304320 -->\n<g id=\"node7\" class=\"node\">\n<title>133098970304320</title>\n<polygon fill=\"lightblue\" stroke=\"black\" points=\"77.5,-373 23.5,-373 23.5,-342 77.5,-342 77.5,-373\"/>\n<text text-anchor=\"middle\" x=\"50.5\" y=\"-349\" font-family=\"monospace\" font-size=\"10.00\"> (2)</text>\n</g>\n<!-- 133098970304320&#45;&gt;133096540322544 -->\n<g id=\"edge5\" class=\"edge\">\n<title>133098970304320&#45;&gt;133096540322544</title>\n<path fill=\"none\" stroke=\"black\" d=\"M50.5,-341.92C50.5,-334.22 50.5,-324.69 50.5,-316.43\"/>\n<polygon fill=\"black\" stroke=\"black\" points=\"54,-316.25 50.5,-306.25 47,-316.25 54,-316.25\"/>\n</g>\n</g>\n</svg>\n",
            "text/plain": [
              "<graphviz.graphs.Digraph at 0x790cf401b2e0>"
            ]
          },
          "metadata": {},
          "execution_count": 66
        }
      ]
    },
    {
      "cell_type": "code",
      "source": [
        "x = torch.tensor([0.],requires_grad=True)\n",
        "y = torch.abs(x)\n",
        "y.backward()\n",
        "print(x.grad)\n",
        "\n",
        "make_dot(y)"
      ],
      "metadata": {
        "colab": {
          "base_uri": "https://localhost:8080/",
          "height": 327
        },
        "id": "frSsegqA2AW0",
        "outputId": "41615768-3fe8-48e4-cec6-dc400dc4a96b"
      },
      "execution_count": 71,
      "outputs": [
        {
          "output_type": "stream",
          "name": "stdout",
          "text": [
            "tensor([0.])\n"
          ]
        },
        {
          "output_type": "execute_result",
          "data": {
            "image/svg+xml": "<?xml version=\"1.0\" encoding=\"UTF-8\" standalone=\"no\"?>\n<!DOCTYPE svg PUBLIC \"-//W3C//DTD SVG 1.1//EN\"\n \"http://www.w3.org/Graphics/SVG/1.1/DTD/svg11.dtd\">\n<!-- Generated by graphviz version 2.43.0 (0)\n -->\n<!-- Title: %3 Pages: 1 -->\n<svg width=\"109pt\" height=\"216pt\"\n viewBox=\"0.00 0.00 109.00 216.00\" xmlns=\"http://www.w3.org/2000/svg\" xmlns:xlink=\"http://www.w3.org/1999/xlink\">\n<g id=\"graph0\" class=\"graph\" transform=\"scale(1 1) rotate(0) translate(4 212)\">\n<title>%3</title>\n<polygon fill=\"white\" stroke=\"transparent\" points=\"-4,4 -4,-212 105,-212 105,4 -4,4\"/>\n<!-- 133096540502784 -->\n<g id=\"node1\" class=\"node\">\n<title>133096540502784</title>\n<polygon fill=\"#caff70\" stroke=\"black\" points=\"77.5,-31 23.5,-31 23.5,0 77.5,0 77.5,-31\"/>\n<text text-anchor=\"middle\" x=\"50.5\" y=\"-7\" font-family=\"monospace\" font-size=\"10.00\"> (1)</text>\n</g>\n<!-- 133096540586336 -->\n<g id=\"node2\" class=\"node\">\n<title>133096540586336</title>\n<polygon fill=\"lightgrey\" stroke=\"black\" points=\"95,-86 6,-86 6,-67 95,-67 95,-86\"/>\n<text text-anchor=\"middle\" x=\"50.5\" y=\"-74\" font-family=\"monospace\" font-size=\"10.00\">AbsBackward0</text>\n</g>\n<!-- 133096540586336&#45;&gt;133096540502784 -->\n<g id=\"edge3\" class=\"edge\">\n<title>133096540586336&#45;&gt;133096540502784</title>\n<path fill=\"none\" stroke=\"black\" d=\"M50.5,-66.79C50.5,-60.07 50.5,-50.4 50.5,-41.34\"/>\n<polygon fill=\"black\" stroke=\"black\" points=\"54,-41.19 50.5,-31.19 47,-41.19 54,-41.19\"/>\n</g>\n<!-- 133096540589408 -->\n<g id=\"node3\" class=\"node\">\n<title>133096540589408</title>\n<polygon fill=\"lightgrey\" stroke=\"black\" points=\"101,-141 0,-141 0,-122 101,-122 101,-141\"/>\n<text text-anchor=\"middle\" x=\"50.5\" y=\"-129\" font-family=\"monospace\" font-size=\"10.00\">AccumulateGrad</text>\n</g>\n<!-- 133096540589408&#45;&gt;133096540586336 -->\n<g id=\"edge1\" class=\"edge\">\n<title>133096540589408&#45;&gt;133096540586336</title>\n<path fill=\"none\" stroke=\"black\" d=\"M50.5,-121.75C50.5,-114.8 50.5,-104.85 50.5,-96.13\"/>\n<polygon fill=\"black\" stroke=\"black\" points=\"54,-96.09 50.5,-86.09 47,-96.09 54,-96.09\"/>\n</g>\n<!-- 133096540502384 -->\n<g id=\"node4\" class=\"node\">\n<title>133096540502384</title>\n<polygon fill=\"lightblue\" stroke=\"black\" points=\"77.5,-208 23.5,-208 23.5,-177 77.5,-177 77.5,-208\"/>\n<text text-anchor=\"middle\" x=\"50.5\" y=\"-184\" font-family=\"monospace\" font-size=\"10.00\"> (1)</text>\n</g>\n<!-- 133096540502384&#45;&gt;133096540589408 -->\n<g id=\"edge2\" class=\"edge\">\n<title>133096540502384&#45;&gt;133096540589408</title>\n<path fill=\"none\" stroke=\"black\" d=\"M50.5,-176.92C50.5,-169.22 50.5,-159.69 50.5,-151.43\"/>\n<polygon fill=\"black\" stroke=\"black\" points=\"54,-151.25 50.5,-141.25 47,-151.25 54,-151.25\"/>\n</g>\n</g>\n</svg>\n",
            "text/plain": [
              "<graphviz.graphs.Digraph at 0x790cf405c3d0>"
            ]
          },
          "metadata": {},
          "execution_count": 71
        }
      ]
    }
  ]
}